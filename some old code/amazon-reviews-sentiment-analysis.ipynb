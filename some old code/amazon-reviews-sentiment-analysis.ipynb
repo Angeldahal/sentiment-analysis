{
 "cells": [
  {
   "cell_type": "code",
   "execution_count": null,
   "id": "f38c2ffe",
   "metadata": {
    "_cell_guid": "b1076dfc-b9ad-4769-8c92-a6c4dae69d19",
    "_uuid": "8f2839f25d086af736a60e9eeb907d3b93b6e0e5",
    "execution": {
     "iopub.execute_input": "2023-03-13T11:43:26.461163Z",
     "iopub.status.busy": "2023-03-13T11:43:26.460348Z",
     "iopub.status.idle": "2023-03-13T11:43:32.748788Z",
     "shell.execute_reply": "2023-03-13T11:43:32.747140Z"
    },
    "papermill": {
     "duration": 6.310523,
     "end_time": "2023-03-13T11:43:32.752018",
     "exception": false,
     "start_time": "2023-03-13T11:43:26.441495",
     "status": "completed"
    },
    "tags": []
   },
   "outputs": [],
   "source": [
    "# Basic Libraries\n",
    "import pandas as pd\n",
    "import numpy as np\n",
    "\n",
    "# NLTK Libraries\n",
    "import nltk\n",
    "import re\n",
    "import string\n",
    "from wordcloud import WordCloud, STOPWORDS\n",
    "from nltk.stem.porter import PorterStemmer\n",
    "from sklearn.feature_extraction.text import TfidfVectorizer\n",
    "\n",
    "# Machine Learning libraries\n",
    "import sklearn \n",
    "from sklearn.svm import SVC\n",
    "from sklearn.preprocessing import LabelEncoder\n",
    "from sklearn.preprocessing import StandardScaler\n",
    "from sklearn.preprocessing import MinMaxScaler\n",
    "from sklearn.ensemble import ExtraTreesClassifier\n",
    "from sklearn.pipeline import make_pipeline\n",
    "from sklearn.model_selection import GridSearchCV\n",
    "from sklearn.linear_model import LogisticRegression\n",
    "from sklearn.tree import DecisionTreeClassifier\n",
    "from sklearn.ensemble import RandomForestClassifier\n",
    "from sklearn.naive_bayes import BernoulliNB \n",
    "from sklearn.neighbors import KNeighborsClassifier\n",
    "from sklearn.multiclass import OneVsRestClassifier\n",
    "from sklearn.svm import SVC\n",
    "from sklearn.pipeline import Pipeline\n",
    "from sklearn.model_selection import train_test_split\n",
    "from sklearn.preprocessing import label_binarize\n",
    "from sklearn import svm, datasets\n",
    "from sklearn import preprocessing \n",
    "\n",
    "\n",
    "#Metrics libraries\n",
    "from sklearn import metrics\n",
    "from sklearn.metrics import classification_report\n",
    "from sklearn.model_selection import cross_val_score\n",
    "from sklearn.metrics import roc_auc_score\n",
    "from sklearn.metrics import roc_curve, auc\n",
    "\n",
    "#Visualization libraries\n",
    "import matplotlib.pyplot as plt \n",
    "from matplotlib import rcParams\n",
    "import seaborn as sns\n",
    "from textblob import TextBlob\n",
    "from plotly import tools\n",
    "import plotly.graph_objs as go\n",
    "from plotly.offline import iplot\n",
    "%matplotlib inline\n",
    "\n",
    "#Ignore warnings\n",
    "import warnings\n",
    "warnings.filterwarnings('ignore')\n",
    "\n",
    "#Other miscellaneous libraries\n",
    "from scipy import interp\n",
    "from itertools import cycle\n",
    "import cufflinks as cf\n",
    "from collections import defaultdict\n",
    "from collections import Counter\n",
    "from imblearn.over_sampling import SMOTE"
   ]
  },
  {
   "cell_type": "code",
   "execution_count": null,
   "id": "e815a781",
   "metadata": {
    "execution": {
     "iopub.execute_input": "2023-03-13T11:43:32.787274Z",
     "iopub.status.busy": "2023-03-13T11:43:32.786766Z",
     "iopub.status.idle": "2023-03-13T11:43:33.024240Z",
     "shell.execute_reply": "2023-03-13T11:43:33.022381Z"
    },
    "papermill": {
     "duration": 0.259081,
     "end_time": "2023-03-13T11:43:33.027520",
     "exception": false,
     "start_time": "2023-03-13T11:43:32.768439",
     "status": "completed"
    },
    "tags": []
   },
   "outputs": [],
   "source": [
    "raw_reviews = pd.read_csv(\"/kaggle/input/amazon-music-reviews/Musical_instruments_reviews.csv\")\n",
    "\n",
    "print(\"The shape of the data is (row, column): \" + str(raw_reviews.shape))\n",
    "print(raw_reviews.info())"
   ]
  },
  {
   "cell_type": "code",
   "execution_count": null,
   "id": "68aaf160",
   "metadata": {
    "execution": {
     "iopub.execute_input": "2023-03-13T11:43:33.067033Z",
     "iopub.status.busy": "2023-03-13T11:43:33.066595Z",
     "iopub.status.idle": "2023-03-13T11:43:33.097046Z",
     "shell.execute_reply": "2023-03-13T11:43:33.095207Z"
    },
    "papermill": {
     "duration": 0.051733,
     "end_time": "2023-03-13T11:43:33.099902",
     "exception": false,
     "start_time": "2023-03-13T11:43:33.048169",
     "status": "completed"
    },
    "tags": []
   },
   "outputs": [],
   "source": [
    "raw_reviews.head()"
   ]
  },
  {
   "cell_type": "markdown",
   "id": "47070508",
   "metadata": {
    "papermill": {
     "duration": 0.016287,
     "end_time": "2023-03-13T11:43:33.133337",
     "exception": false,
     "start_time": "2023-03-13T11:43:33.117050",
     "status": "completed"
    },
    "tags": []
   },
   "source": [
    "# Handling NaN values"
   ]
  },
  {
   "cell_type": "code",
   "execution_count": null,
   "id": "39bdb620",
   "metadata": {
    "execution": {
     "iopub.execute_input": "2023-03-13T11:43:33.169286Z",
     "iopub.status.busy": "2023-03-13T11:43:33.168855Z",
     "iopub.status.idle": "2023-03-13T11:43:33.183770Z",
     "shell.execute_reply": "2023-03-13T11:43:33.182333Z"
    },
    "papermill": {
     "duration": 0.035218,
     "end_time": "2023-03-13T11:43:33.185877",
     "exception": false,
     "start_time": "2023-03-13T11:43:33.150659",
     "status": "completed"
    },
    "tags": []
   },
   "outputs": [],
   "source": [
    "process_reviews = raw_reviews.copy()\n",
    "\n",
    "process_reviews.isnull().sum()"
   ]
  },
  {
   "cell_type": "code",
   "execution_count": null,
   "id": "2cfacc4e",
   "metadata": {
    "execution": {
     "iopub.execute_input": "2023-03-13T11:43:33.220585Z",
     "iopub.status.busy": "2023-03-13T11:43:33.220108Z",
     "iopub.status.idle": "2023-03-13T11:43:33.229681Z",
     "shell.execute_reply": "2023-03-13T11:43:33.227982Z"
    },
    "papermill": {
     "duration": 0.030231,
     "end_time": "2023-03-13T11:43:33.232236",
     "exception": false,
     "start_time": "2023-03-13T11:43:33.202005",
     "status": "completed"
    },
    "tags": []
   },
   "outputs": [],
   "source": [
    "process_reviews['reviewText'] = process_reviews['reviewText'].fillna(\"Missing\")"
   ]
  },
  {
   "cell_type": "code",
   "execution_count": null,
   "id": "a7344387",
   "metadata": {
    "execution": {
     "iopub.execute_input": "2023-03-13T11:43:33.272590Z",
     "iopub.status.busy": "2023-03-13T11:43:33.272069Z",
     "iopub.status.idle": "2023-03-13T11:43:33.302363Z",
     "shell.execute_reply": "2023-03-13T11:43:33.301273Z"
    },
    "papermill": {
     "duration": 0.054766,
     "end_time": "2023-03-13T11:43:33.304723",
     "exception": false,
     "start_time": "2023-03-13T11:43:33.249957",
     "status": "completed"
    },
    "tags": []
   },
   "outputs": [],
   "source": [
    "process_reviews[\"reviews\"] = process_reviews[\"reviewText\"]+process_reviews[\"summary\"]\n",
    "process_reviews = process_reviews.drop([\"reviewText\", \"summary\"], axis=1)\n",
    "process_reviews.head()"
   ]
  },
  {
   "cell_type": "code",
   "execution_count": null,
   "id": "6c22f72f",
   "metadata": {
    "execution": {
     "iopub.execute_input": "2023-03-13T11:43:33.344866Z",
     "iopub.status.busy": "2023-03-13T11:43:33.344263Z",
     "iopub.status.idle": "2023-03-13T11:43:33.357021Z",
     "shell.execute_reply": "2023-03-13T11:43:33.355962Z"
    },
    "papermill": {
     "duration": 0.036562,
     "end_time": "2023-03-13T11:43:33.359145",
     "exception": false,
     "start_time": "2023-03-13T11:43:33.322583",
     "status": "completed"
    },
    "tags": []
   },
   "outputs": [],
   "source": [
    "process_reviews['overall'].value_counts()"
   ]
  },
  {
   "cell_type": "code",
   "execution_count": null,
   "id": "d2d08129",
   "metadata": {
    "execution": {
     "iopub.execute_input": "2023-03-13T11:43:33.401493Z",
     "iopub.status.busy": "2023-03-13T11:43:33.400590Z",
     "iopub.status.idle": "2023-03-13T11:43:33.408331Z",
     "shell.execute_reply": "2023-03-13T11:43:33.407007Z"
    },
    "papermill": {
     "duration": 0.034758,
     "end_time": "2023-03-13T11:43:33.413458",
     "exception": false,
     "start_time": "2023-03-13T11:43:33.378700",
     "status": "completed"
    },
    "tags": []
   },
   "outputs": [],
   "source": [
    "def f(row):\n",
    "    '''This function returns sentiment value based on the overall ratings from the user'''\n",
    "    if row['overall'] == 3.0:\n",
    "        val = \"Neutral\"\n",
    "    elif row['overall'] == 1.0 or row['overall'] == 2.0:\n",
    "        val = \"Negative\"\n",
    "    elif row['overall'] == 4.0 or row['overall'] == 5.0:\n",
    "        val = \"Positive\"\n",
    "    else:\n",
    "        val = -1\n",
    "    return val"
   ]
  },
  {
   "cell_type": "code",
   "execution_count": null,
   "id": "4033ff03",
   "metadata": {
    "execution": {
     "iopub.execute_input": "2023-03-13T11:43:33.459305Z",
     "iopub.status.busy": "2023-03-13T11:43:33.458384Z",
     "iopub.status.idle": "2023-03-13T11:43:33.725176Z",
     "shell.execute_reply": "2023-03-13T11:43:33.723784Z"
    },
    "papermill": {
     "duration": 0.291054,
     "end_time": "2023-03-13T11:43:33.727687",
     "exception": false,
     "start_time": "2023-03-13T11:43:33.436633",
     "status": "completed"
    },
    "tags": []
   },
   "outputs": [],
   "source": [
    "process_reviews[\"sentiment\"] = process_reviews.apply(f, axis=1)\n",
    "process_reviews.head()"
   ]
  },
  {
   "cell_type": "code",
   "execution_count": null,
   "id": "e96cc572",
   "metadata": {
    "execution": {
     "iopub.execute_input": "2023-03-13T11:43:33.767369Z",
     "iopub.status.busy": "2023-03-13T11:43:33.766712Z",
     "iopub.status.idle": "2023-03-13T11:43:33.775331Z",
     "shell.execute_reply": "2023-03-13T11:43:33.773720Z"
    },
    "papermill": {
     "duration": 0.032121,
     "end_time": "2023-03-13T11:43:33.778288",
     "exception": false,
     "start_time": "2023-03-13T11:43:33.746167",
     "status": "completed"
    },
    "tags": []
   },
   "outputs": [],
   "source": [
    "process_reviews[\"sentiment\"].value_counts()"
   ]
  },
  {
   "cell_type": "code",
   "execution_count": null,
   "id": "c5f32c25",
   "metadata": {
    "execution": {
     "iopub.execute_input": "2023-03-13T11:43:33.816740Z",
     "iopub.status.busy": "2023-03-13T11:43:33.815931Z",
     "iopub.status.idle": "2023-03-13T11:43:33.853521Z",
     "shell.execute_reply": "2023-03-13T11:43:33.851724Z"
    },
    "papermill": {
     "duration": 0.0611,
     "end_time": "2023-03-13T11:43:33.856622",
     "exception": false,
     "start_time": "2023-03-13T11:43:33.795522",
     "status": "completed"
    },
    "tags": []
   },
   "outputs": [],
   "source": [
    "new = process_reviews[\"reviewTime\"].str.split(\",\", n=1, expand=True)\n",
    "process_reviews[\"date\"] = new[0]\n",
    "process_reviews[\"year\"] = new[1]\n",
    "process_reviews = process_reviews.drop([\"reviewTime\"], axis=1)\n",
    "process_reviews.head()"
   ]
  },
  {
   "cell_type": "code",
   "execution_count": null,
   "id": "c8b4f849",
   "metadata": {
    "execution": {
     "iopub.execute_input": "2023-03-13T11:43:33.894891Z",
     "iopub.status.busy": "2023-03-13T11:43:33.894171Z",
     "iopub.status.idle": "2023-03-13T11:43:33.929235Z",
     "shell.execute_reply": "2023-03-13T11:43:33.927611Z"
    },
    "papermill": {
     "duration": 0.057034,
     "end_time": "2023-03-13T11:43:33.932318",
     "exception": false,
     "start_time": "2023-03-13T11:43:33.875284",
     "status": "completed"
    },
    "tags": []
   },
   "outputs": [],
   "source": [
    "new1 = process_reviews[\"date\"].str.split(\" \", n=1, expand=True)\n",
    "process_reviews[\"month\"] = new1[0]\n",
    "process_reviews[\"day\"] = new1[1]\n",
    "\n",
    "process_reviews = process_reviews.drop([\"date\"], axis=1)\n",
    "process_reviews.head()"
   ]
  },
  {
   "cell_type": "code",
   "execution_count": null,
   "id": "578e7768",
   "metadata": {
    "execution": {
     "iopub.execute_input": "2023-03-13T11:43:33.971263Z",
     "iopub.status.busy": "2023-03-13T11:43:33.970675Z",
     "iopub.status.idle": "2023-03-13T11:43:33.977489Z",
     "shell.execute_reply": "2023-03-13T11:43:33.976195Z"
    },
    "papermill": {
     "duration": 0.030425,
     "end_time": "2023-03-13T11:43:33.980243",
     "exception": false,
     "start_time": "2023-03-13T11:43:33.949818",
     "status": "completed"
    },
    "tags": []
   },
   "outputs": [],
   "source": [
    "process_reviews[\"reviews\"][1]"
   ]
  },
  {
   "cell_type": "code",
   "execution_count": null,
   "id": "528168b5",
   "metadata": {
    "execution": {
     "iopub.execute_input": "2023-03-13T11:43:34.024673Z",
     "iopub.status.busy": "2023-03-13T11:43:34.023863Z",
     "iopub.status.idle": "2023-03-13T11:43:34.102447Z",
     "shell.execute_reply": "2023-03-13T11:43:34.100379Z"
    },
    "papermill": {
     "duration": 0.106809,
     "end_time": "2023-03-13T11:43:34.105632",
     "exception": false,
     "start_time": "2023-03-13T11:43:33.998823",
     "status": "completed"
    },
    "tags": []
   },
   "outputs": [],
   "source": [
    "new1 = process_reviews[\"helpful\"].str.split(',', n=1, expand=True)\n",
    "new2 = new1[0].str.split('[', n=1, expand=True)\n",
    "new3 = new1[1].str.split(']', n=1, expand=True)\n",
    "\n",
    "new2.reset_index(drop=True, inplace=True)\n",
    "new3.reset_index(drop=True, inplace=True)\n",
    "\n",
    "new2 = new2.drop([0], axis=1)\n",
    "new3 = new3.drop([1], axis=1)\n",
    "\n",
    "helpful = pd.concat([new2, new3], axis=1)\n",
    "\n",
    "def trim_all_columns(df):\n",
    "    '''\n",
    "    Trim whitespace from ends of each value across all series in dataframe\n",
    "    '''\n",
    "    trim_strings = lambda x: x.strip() if isinstance(x, str) else x\n",
    "    return df.applymap(trim_strings)\n",
    "\n",
    "helpful = trim_all_columns(helpful)\n",
    "\n",
    "helpful[0] = helpful[0].astype(str).astype(int)\n",
    "helpful[1] = helpful[1].astype(str).astype(int)\n",
    "\n",
    "try:\n",
    "    helpful['result'] = helpful[1]/helpful[0]\n",
    "except ZeroDivisionError:\n",
    "    helpful['result'] = 0\n",
    "\n",
    "helpful['result'] = helpful['result'].fillna(0)\n",
    "helpful['result'] = helpful['result'].round(2)\n",
    "\n",
    "process_reviews['helpful_rate'] = helpful['result']\n",
    "\n",
    "process_reviews = process_reviews.drop(['helpful'], axis=1)"
   ]
  },
  {
   "cell_type": "code",
   "execution_count": null,
   "id": "661ef278",
   "metadata": {
    "execution": {
     "iopub.execute_input": "2023-03-13T11:43:34.145673Z",
     "iopub.status.busy": "2023-03-13T11:43:34.144979Z",
     "iopub.status.idle": "2023-03-13T11:43:34.163637Z",
     "shell.execute_reply": "2023-03-13T11:43:34.161901Z"
    },
    "papermill": {
     "duration": 0.042058,
     "end_time": "2023-03-13T11:43:34.166364",
     "exception": false,
     "start_time": "2023-03-13T11:43:34.124306",
     "status": "completed"
    },
    "tags": []
   },
   "outputs": [],
   "source": [
    "process_reviews.head()"
   ]
  },
  {
   "cell_type": "code",
   "execution_count": null,
   "id": "03944b18",
   "metadata": {
    "execution": {
     "iopub.execute_input": "2023-03-13T11:43:34.205047Z",
     "iopub.status.busy": "2023-03-13T11:43:34.204288Z",
     "iopub.status.idle": "2023-03-13T11:43:34.213849Z",
     "shell.execute_reply": "2023-03-13T11:43:34.212817Z"
    },
    "papermill": {
     "duration": 0.031523,
     "end_time": "2023-03-13T11:43:34.215826",
     "exception": false,
     "start_time": "2023-03-13T11:43:34.184303",
     "status": "completed"
    },
    "tags": []
   },
   "outputs": [],
   "source": [
    "process_reviews[\"helpful_rate\"].value_counts()"
   ]
  },
  {
   "cell_type": "code",
   "execution_count": null,
   "id": "638a5093",
   "metadata": {
    "execution": {
     "iopub.execute_input": "2023-03-13T11:43:34.255220Z",
     "iopub.status.busy": "2023-03-13T11:43:34.254491Z",
     "iopub.status.idle": "2023-03-13T11:43:34.263488Z",
     "shell.execute_reply": "2023-03-13T11:43:34.261725Z"
    },
    "papermill": {
     "duration": 0.032377,
     "end_time": "2023-03-13T11:43:34.266452",
     "exception": false,
     "start_time": "2023-03-13T11:43:34.234075",
     "status": "completed"
    },
    "tags": []
   },
   "outputs": [],
   "source": [
    "process_reviews = process_reviews.drop(['reviewerName', 'unixReviewTime'], axis=1)\n",
    "clean_reviews = process_reviews.copy()"
   ]
  },
  {
   "cell_type": "code",
   "execution_count": null,
   "id": "4dbef0cc",
   "metadata": {
    "execution": {
     "iopub.execute_input": "2023-03-13T11:43:34.307001Z",
     "iopub.status.busy": "2023-03-13T11:43:34.306639Z",
     "iopub.status.idle": "2023-03-13T11:43:34.324939Z",
     "shell.execute_reply": "2023-03-13T11:43:34.323747Z"
    },
    "papermill": {
     "duration": 0.041975,
     "end_time": "2023-03-13T11:43:34.327337",
     "exception": false,
     "start_time": "2023-03-13T11:43:34.285362",
     "status": "completed"
    },
    "tags": []
   },
   "outputs": [],
   "source": [
    "clean_reviews.head()"
   ]
  },
  {
   "cell_type": "code",
   "execution_count": null,
   "id": "477cf09e",
   "metadata": {
    "execution": {
     "iopub.execute_input": "2023-03-13T11:43:34.366765Z",
     "iopub.status.busy": "2023-03-13T11:43:34.366356Z",
     "iopub.status.idle": "2023-03-13T11:43:34.374883Z",
     "shell.execute_reply": "2023-03-13T11:43:34.373219Z"
    },
    "papermill": {
     "duration": 0.030938,
     "end_time": "2023-03-13T11:43:34.377275",
     "exception": false,
     "start_time": "2023-03-13T11:43:34.346337",
     "status": "completed"
    },
    "tags": []
   },
   "outputs": [],
   "source": [
    "def review_cleaning(text):\n",
    "    '''Make text lowercase, remove text in square brackets,remove links,remove punctuation\n",
    "    and remove words containing numbers.'''\n",
    "    text = str(text).lower()\n",
    "    text = re.sub('\\[.*?\\]', '', text)\n",
    "    text = re.sub('https?://\\S+|www\\.\\S+', '', text)\n",
    "    text = re.sub('<.*?>+', '', text)\n",
    "    text = re.sub('[%s]' % re.escape(string.punctuation), '', text)\n",
    "    text = re.sub('\\n', '', text)\n",
    "    text = re.sub('\\w*\\d\\w*', '', text)\n",
    "    return text"
   ]
  },
  {
   "cell_type": "code",
   "execution_count": null,
   "id": "2854d11d",
   "metadata": {
    "execution": {
     "iopub.execute_input": "2023-03-13T11:43:34.418174Z",
     "iopub.status.busy": "2023-03-13T11:43:34.417769Z",
     "iopub.status.idle": "2023-03-13T11:43:35.002172Z",
     "shell.execute_reply": "2023-03-13T11:43:35.000252Z"
    },
    "papermill": {
     "duration": 0.609491,
     "end_time": "2023-03-13T11:43:35.005055",
     "exception": false,
     "start_time": "2023-03-13T11:43:34.395564",
     "status": "completed"
    },
    "tags": []
   },
   "outputs": [],
   "source": [
    "process_reviews['reviews'] = process_reviews['reviews'].apply(lambda x:review_cleaning(x))\n",
    "process_reviews.head()"
   ]
  },
  {
   "cell_type": "code",
   "execution_count": null,
   "id": "612ed3e5",
   "metadata": {
    "execution": {
     "iopub.execute_input": "2023-03-13T11:43:35.045701Z",
     "iopub.status.busy": "2023-03-13T11:43:35.045283Z",
     "iopub.status.idle": "2023-03-13T11:43:35.053970Z",
     "shell.execute_reply": "2023-03-13T11:43:35.052190Z"
    },
    "papermill": {
     "duration": 0.031266,
     "end_time": "2023-03-13T11:43:35.056117",
     "exception": false,
     "start_time": "2023-03-13T11:43:35.024851",
     "status": "completed"
    },
    "tags": []
   },
   "outputs": [],
   "source": [
    "process_reviews.reviews[50]"
   ]
  },
  {
   "cell_type": "code",
   "execution_count": null,
   "id": "043a6968",
   "metadata": {
    "execution": {
     "iopub.execute_input": "2023-03-13T11:43:35.098321Z",
     "iopub.status.busy": "2023-03-13T11:43:35.097944Z",
     "iopub.status.idle": "2023-03-13T11:43:35.107797Z",
     "shell.execute_reply": "2023-03-13T11:43:35.106627Z"
    },
    "papermill": {
     "duration": 0.034411,
     "end_time": "2023-03-13T11:43:35.110728",
     "exception": false,
     "start_time": "2023-03-13T11:43:35.076317",
     "status": "completed"
    },
    "tags": []
   },
   "outputs": [],
   "source": [
    "stop_words= ['yourselves', 'between', 'whom', 'itself', 'is', \"she's\", 'up', 'herself', 'here', 'your', 'each', \n",
    "             'we', 'he', 'my', \"you've\", 'having', 'in', 'both', 'for', 'themselves', 'are', 'them', 'other',\n",
    "             'and', 'an', 'during', 'their', 'can', 'yourself', 'she', 'until', 'so', 'these', 'ours', 'above', \n",
    "             'what', 'while', 'have', 're', 'more', 'only', \"needn't\", 'when', 'just', 'that', 'were', \"don't\", \n",
    "             'very', 'should', 'any', 'y', 'isn', 'who',  'a', 'they', 'to', 'too', \"should've\", 'has', 'before',\n",
    "             'into', 'yours', \"it's\", 'do', 'against', 'on',  'now', 'her', 've', 'd', 'by', 'am', 'from', \n",
    "             'about', 'further', \"that'll\", \"you'd\", 'you', 'as', 'how', 'been', 'the', 'or', 'doing', 'such',\n",
    "             'his', 'himself', 'ourselves',  'was', 'through', 'out', 'below', 'own', 'myself', 'theirs', \n",
    "             'me', 'why', 'once',  'him', 'than', 'be', 'most', \"you'll\", 'same', 'some', 'with', 'few', 'it',\n",
    "             'at', 'after', 'its', 'which', 'there','our', 'this', 'hers', 'being', 'did', 'of', 'had', 'under',\n",
    "             'over','again', 'where', 'those', 'then', \"you're\", 'i', 'because', 'does', 'all']"
   ]
  },
  {
   "cell_type": "code",
   "execution_count": null,
   "id": "a3907225",
   "metadata": {
    "execution": {
     "iopub.execute_input": "2023-03-13T11:43:35.150312Z",
     "iopub.status.busy": "2023-03-13T11:43:35.149912Z",
     "iopub.status.idle": "2023-03-13T11:43:36.770353Z",
     "shell.execute_reply": "2023-03-13T11:43:36.769338Z"
    },
    "papermill": {
     "duration": 1.643279,
     "end_time": "2023-03-13T11:43:36.772851",
     "exception": false,
     "start_time": "2023-03-13T11:43:35.129572",
     "status": "completed"
    },
    "tags": []
   },
   "outputs": [],
   "source": [
    "process_reviews['reviews'] = process_reviews['reviews'].apply(lambda x:' '.join([word for word in x.split() if word not in (stop_words)]))\n",
    "process_reviews.reviews"
   ]
  },
  {
   "cell_type": "code",
   "execution_count": null,
   "id": "a0f21a4f",
   "metadata": {
    "execution": {
     "iopub.execute_input": "2023-03-13T11:43:36.816089Z",
     "iopub.status.busy": "2023-03-13T11:43:36.815656Z",
     "iopub.status.idle": "2023-03-13T11:43:36.830758Z",
     "shell.execute_reply": "2023-03-13T11:43:36.828487Z"
    },
    "papermill": {
     "duration": 0.039325,
     "end_time": "2023-03-13T11:43:36.833929",
     "exception": false,
     "start_time": "2023-03-13T11:43:36.794604",
     "status": "completed"
    },
    "tags": []
   },
   "outputs": [],
   "source": [
    "pd.DataFrame(process_reviews.groupby('sentiment')['helpful_rate'].mean())"
   ]
  },
  {
   "cell_type": "code",
   "execution_count": null,
   "id": "b2f61f87",
   "metadata": {
    "execution": {
     "iopub.execute_input": "2023-03-13T11:43:36.878137Z",
     "iopub.status.busy": "2023-03-13T11:43:36.877762Z",
     "iopub.status.idle": "2023-03-13T11:43:37.211218Z",
     "shell.execute_reply": "2023-03-13T11:43:37.209308Z"
    },
    "papermill": {
     "duration": 0.360066,
     "end_time": "2023-03-13T11:43:37.214095",
     "exception": false,
     "start_time": "2023-03-13T11:43:36.854029",
     "status": "completed"
    },
    "tags": []
   },
   "outputs": [],
   "source": [
    "plt.rcParams.update({'font.size': 18})\n",
    "rcParams['figure.figsize'] = 16, 9\n",
    "\n",
    "senti_help = pd.DataFrame(process_reviews, columns=['sentiment', 'helpful_rate'])\n",
    "senti_help = senti_help[senti_help['helpful_rate'] != 0.0]\n",
    "\n",
    "sns.violinplot(x=senti_help[\"sentiment\"], y=senti_help[\"helpful_rate\"])\n",
    "plt.title('Sentiment vs Helpfulness')\n",
    "plt.xlabel('Sentiment Categories')\n",
    "plt.ylabel('Helpful Rate')\n",
    "plt.show()"
   ]
  },
  {
   "cell_type": "code",
   "execution_count": null,
   "id": "28e9b137",
   "metadata": {
    "execution": {
     "iopub.execute_input": "2023-03-13T11:43:37.258115Z",
     "iopub.status.busy": "2023-03-13T11:43:37.257129Z",
     "iopub.status.idle": "2023-03-13T11:43:37.565821Z",
     "shell.execute_reply": "2023-03-13T11:43:37.564924Z"
    },
    "papermill": {
     "duration": 0.332876,
     "end_time": "2023-03-13T11:43:37.568011",
     "exception": false,
     "start_time": "2023-03-13T11:43:37.235135",
     "status": "completed"
    },
    "tags": []
   },
   "outputs": [],
   "source": [
    "process_reviews.groupby(['year', 'sentiment'])['sentiment'].count().unstack().plot(legend=True)\n",
    "plt.title(\"Year and Sentiment count\")\n",
    "plt.xlabel(\"Year\")\n",
    "plt.ylabel(\"Sentiment Count\")\n",
    "plt.show()"
   ]
  },
  {
   "cell_type": "code",
   "execution_count": null,
   "id": "68754643",
   "metadata": {
    "execution": {
     "iopub.execute_input": "2023-03-13T11:43:37.616355Z",
     "iopub.status.busy": "2023-03-13T11:43:37.615628Z",
     "iopub.status.idle": "2023-03-13T11:43:38.193116Z",
     "shell.execute_reply": "2023-03-13T11:43:38.191621Z"
    },
    "papermill": {
     "duration": 0.604521,
     "end_time": "2023-03-13T11:43:38.195426",
     "exception": false,
     "start_time": "2023-03-13T11:43:37.590905",
     "status": "completed"
    },
    "tags": []
   },
   "outputs": [],
   "source": [
    "day = pd.DataFrame(process_reviews.groupby('day')['reviews'].count()).reset_index()\n",
    "day['day'] = day['day'].astype('int64')\n",
    "day.sort_values(by=['day'])\n",
    "\n",
    "sns.barplot(x='day', y='reviews', data=day)\n",
    "plt.title(\"Day vs Reviews Count\")\n",
    "plt.xlabel(\"Day\")\n",
    "plt.ylabel(\"Reviews Count\")\n",
    "plt.show()"
   ]
  },
  {
   "cell_type": "code",
   "execution_count": null,
   "id": "b3f3404b",
   "metadata": {
    "execution": {
     "iopub.execute_input": "2023-03-13T11:43:38.240778Z",
     "iopub.status.busy": "2023-03-13T11:43:38.240291Z",
     "iopub.status.idle": "2023-03-13T11:43:42.191058Z",
     "shell.execute_reply": "2023-03-13T11:43:42.190206Z"
    },
    "papermill": {
     "duration": 3.976947,
     "end_time": "2023-03-13T11:43:42.193728",
     "exception": false,
     "start_time": "2023-03-13T11:43:38.216781",
     "status": "completed"
    },
    "tags": []
   },
   "outputs": [],
   "source": [
    "process_reviews['polarity'] = process_reviews['reviews'].map(lambda text: TextBlob(text).sentiment.polarity)\n",
    "process_reviews['review_len'] = process_reviews['reviews'].astype(str).apply(len)\n",
    "process_reviews['word_count'] = process_reviews['reviews'].apply(lambda x: len(str(x).split()))"
   ]
  },
  {
   "cell_type": "code",
   "execution_count": null,
   "id": "0437dafa",
   "metadata": {
    "execution": {
     "iopub.execute_input": "2023-03-13T11:43:42.239916Z",
     "iopub.status.busy": "2023-03-13T11:43:42.238963Z",
     "iopub.status.idle": "2023-03-13T11:43:42.259554Z",
     "shell.execute_reply": "2023-03-13T11:43:42.257833Z"
    },
    "papermill": {
     "duration": 0.047859,
     "end_time": "2023-03-13T11:43:42.262905",
     "exception": false,
     "start_time": "2023-03-13T11:43:42.215046",
     "status": "completed"
    },
    "tags": []
   },
   "outputs": [],
   "source": [
    "process_reviews.head()"
   ]
  },
  {
   "cell_type": "code",
   "execution_count": null,
   "id": "2ce4f4ce",
   "metadata": {
    "execution": {
     "iopub.execute_input": "2023-03-13T11:43:42.307897Z",
     "iopub.status.busy": "2023-03-13T11:43:42.307511Z",
     "iopub.status.idle": "2023-03-13T11:43:42.354800Z",
     "shell.execute_reply": "2023-03-13T11:43:42.353915Z"
    },
    "papermill": {
     "duration": 0.072252,
     "end_time": "2023-03-13T11:43:42.356964",
     "exception": false,
     "start_time": "2023-03-13T11:43:42.284712",
     "status": "completed"
    },
    "tags": []
   },
   "outputs": [],
   "source": [
    "cf.go_offline()\n",
    "cf.set_config_file(offline=False, world_readable=True)"
   ]
  },
  {
   "cell_type": "code",
   "execution_count": null,
   "id": "b2c0a3b2",
   "metadata": {
    "execution": {
     "iopub.execute_input": "2023-03-13T11:43:42.402262Z",
     "iopub.status.busy": "2023-03-13T11:43:42.401173Z",
     "iopub.status.idle": "2023-03-13T11:43:43.832414Z",
     "shell.execute_reply": "2023-03-13T11:43:43.831644Z"
    },
    "papermill": {
     "duration": 1.464711,
     "end_time": "2023-03-13T11:43:43.843230",
     "exception": false,
     "start_time": "2023-03-13T11:43:42.378519",
     "status": "completed"
    },
    "tags": []
   },
   "outputs": [],
   "source": [
    "process_reviews['polarity'].iplot(\n",
    "    kind='hist',\n",
    "    bins=50,\n",
    "    xTitle='polarity',\n",
    "    linecolor='black',\n",
    "    yTitle='count',\n",
    "    title='Sentiment Polarity Distribution'\n",
    "    )"
   ]
  },
  {
   "cell_type": "code",
   "execution_count": null,
   "id": "1b0b5096",
   "metadata": {
    "execution": {
     "iopub.execute_input": "2023-03-13T11:43:43.952252Z",
     "iopub.status.busy": "2023-03-13T11:43:43.951151Z",
     "iopub.status.idle": "2023-03-13T11:43:44.118722Z",
     "shell.execute_reply": "2023-03-13T11:43:44.117041Z"
    },
    "papermill": {
     "duration": 0.230323,
     "end_time": "2023-03-13T11:43:44.126586",
     "exception": false,
     "start_time": "2023-03-13T11:43:43.896263",
     "status": "completed"
    },
    "tags": []
   },
   "outputs": [],
   "source": [
    "process_reviews['overall'].iplot(\n",
    "    kind='hist',\n",
    "    xTitle='rating',\n",
    "    linecolor='black',\n",
    "    yTitle='count',\n",
    "    title='Review Rating Distribution')"
   ]
  },
  {
   "cell_type": "code",
   "execution_count": null,
   "id": "7784877d",
   "metadata": {
    "execution": {
     "iopub.execute_input": "2023-03-13T11:43:44.290049Z",
     "iopub.status.busy": "2023-03-13T11:43:44.289659Z",
     "iopub.status.idle": "2023-03-13T11:43:44.453777Z",
     "shell.execute_reply": "2023-03-13T11:43:44.452294Z"
    },
    "papermill": {
     "duration": 0.252886,
     "end_time": "2023-03-13T11:43:44.461413",
     "exception": false,
     "start_time": "2023-03-13T11:43:44.208527",
     "status": "completed"
    },
    "tags": []
   },
   "outputs": [],
   "source": [
    "process_reviews['review_len'].iplot(\n",
    "    kind='hist',\n",
    "    bins=50,\n",
    "    xTitle='review length',\n",
    "    yTitle='count',\n",
    "    linecolor='black',\n",
    "    title=\"Review Text Length Distribution\"\n",
    "    )"
   ]
  },
  {
   "cell_type": "code",
   "execution_count": null,
   "id": "eeca4e3c",
   "metadata": {
    "execution": {
     "iopub.execute_input": "2023-03-13T11:43:44.663263Z",
     "iopub.status.busy": "2023-03-13T11:43:44.662889Z",
     "iopub.status.idle": "2023-03-13T11:43:44.822111Z",
     "shell.execute_reply": "2023-03-13T11:43:44.820542Z"
    },
    "papermill": {
     "duration": 0.266511,
     "end_time": "2023-03-13T11:43:44.828871",
     "exception": false,
     "start_time": "2023-03-13T11:43:44.562360",
     "status": "completed"
    },
    "tags": []
   },
   "outputs": [],
   "source": [
    "process_reviews['word_count'].iplot(\n",
    "    kind='hist',\n",
    "    bins=100,\n",
    "    xTitle='word count',\n",
    "    linecolor='black',\n",
    "    yTitle='count',\n",
    "    title='Review Text Word Count Distribution')"
   ]
  },
  {
   "cell_type": "markdown",
   "id": "3591fb11",
   "metadata": {
    "papermill": {
     "duration": 0.121835,
     "end_time": "2023-03-13T11:43:45.072615",
     "exception": false,
     "start_time": "2023-03-13T11:43:44.950780",
     "status": "completed"
    },
    "tags": []
   },
   "source": [
    "# Unigram Analysis"
   ]
  },
  {
   "cell_type": "code",
   "execution_count": null,
   "id": "403de4e6",
   "metadata": {
    "execution": {
     "iopub.execute_input": "2023-03-13T11:43:45.318469Z",
     "iopub.status.busy": "2023-03-13T11:43:45.318051Z",
     "iopub.status.idle": "2023-03-13T11:43:45.942569Z",
     "shell.execute_reply": "2023-03-13T11:43:45.941000Z"
    },
    "papermill": {
     "duration": 0.750632,
     "end_time": "2023-03-13T11:43:45.944825",
     "exception": false,
     "start_time": "2023-03-13T11:43:45.194193",
     "status": "completed"
    },
    "tags": []
   },
   "outputs": [],
   "source": [
    "review_pos = process_reviews[process_reviews['sentiment']==\"Positive\"].dropna()\n",
    "review_neu = process_reviews[process_reviews['sentiment']==\"Neutral\"].dropna()\n",
    "review_neg = process_reviews[process_reviews['sentiment']==\"Negative\"].dropna()\n",
    "\n",
    "def generate_ngrams(text, n_gram=1):\n",
    "    token = [token for token in text.lower().split(\" \") if token != \"\" if token not in STOPWORDS]\n",
    "    ngrams = zip(*[token[i:] for i in range(n_gram)])\n",
    "    return [\" \".join(ngram) for ngram in ngrams]\n",
    "\n",
    "def horizontal_bar_chart(df, color):\n",
    "    trace = go.Bar(\n",
    "        y=df[\"word\"].values[::-1],\n",
    "        x=df[\"wordcount\"].values[::-1],\n",
    "        showlegend=False,\n",
    "        orientation = 'h',\n",
    "        marker=dict(color=color,),\n",
    "        )\n",
    "    return trace\n",
    "\n",
    "freq_dict = defaultdict(int)\n",
    "for sent in review_pos[\"reviews\"]:\n",
    "    for word in generate_ngrams(sent):\n",
    "        freq_dict[word] += 1\n",
    "fd_sorted = pd.DataFrame(sorted(freq_dict.items(), key=lambda x: x[1])[::-1])\n",
    "fd_sorted.columns = [\"word\", \"wordcount\"]\n",
    "trace0 = horizontal_bar_chart(fd_sorted.head(25), 'green')\n",
    "\n",
    "freq_dict = defaultdict(int)\n",
    "for sent in review_neu[\"reviews\"]:\n",
    "    for word in generate_ngrams(sent):\n",
    "        freq_dict[word] += 1\n",
    "fd_sorted = pd.DataFrame(sorted(freq_dict.items(), key=lambda x: x[1])[::-1])\n",
    "fd_sorted.columns = [\"word\", \"wordcount\"]\n",
    "trace1 = horizontal_bar_chart(fd_sorted.head(25), 'grey')\n",
    "\n",
    "freq_dict = defaultdict(int)\n",
    "for sent in review_neg[\"reviews\"]:\n",
    "    for word in generate_ngrams(sent):\n",
    "        freq_dict[word] += 1\n",
    "fd_sorted = pd.DataFrame(sorted(freq_dict.items(), key=lambda x: x[1])[::-1])\n",
    "fd_sorted.columns = [\"word\", \"wordcount\"]\n",
    "trace2 = horizontal_bar_chart(fd_sorted.head(25), 'red')\n",
    "\n",
    "fig = tools.make_subplots(rows=3, cols=1, vertical_spacing=0.04, subplot_titles=[\"Frequent words of positive reviews\", \"Frequent words of neutral reviews\",\"Frequent words of negative reviews\"])\n",
    "fig.append_trace(trace0, 1, 1)\n",
    "fig.append_trace(trace1, 2, 1)\n",
    "fig.append_trace(trace2, 3, 1)\n",
    "fig['layout'].update(height=1200, width= 900, paper_bgcolor='rgb(233, 233, 233)', title='Word Count Plots')\n",
    "iplot(fig, filename='word-plots')"
   ]
  },
  {
   "cell_type": "markdown",
   "id": "0e76429c",
   "metadata": {
    "papermill": {
     "duration": 0.128636,
     "end_time": "2023-03-13T11:43:46.203550",
     "exception": false,
     "start_time": "2023-03-13T11:43:46.074914",
     "status": "completed"
    },
    "tags": []
   },
   "source": [
    "# Bigram Analysis"
   ]
  },
  {
   "cell_type": "code",
   "execution_count": null,
   "id": "52da973e",
   "metadata": {
    "execution": {
     "iopub.execute_input": "2023-03-13T11:43:46.461318Z",
     "iopub.status.busy": "2023-03-13T11:43:46.460908Z",
     "iopub.status.idle": "2023-03-13T11:43:47.209645Z",
     "shell.execute_reply": "2023-03-13T11:43:47.208619Z"
    },
    "papermill": {
     "duration": 0.880264,
     "end_time": "2023-03-13T11:43:47.211897",
     "exception": false,
     "start_time": "2023-03-13T11:43:46.331633",
     "status": "completed"
    },
    "tags": []
   },
   "outputs": [],
   "source": [
    "freq_dict = defaultdict(int)\n",
    "for sent in review_pos[\"reviews\"]:\n",
    "    for word in generate_ngrams(sent, 2):\n",
    "        freq_dict[word] += 1\n",
    "fd_sorted = pd.DataFrame(sorted(freq_dict.items(), key=lambda x:x[1])[::-1])\n",
    "fd_sorted.columns = [\"word\", \"wordcount\"]\n",
    "trace0 = horizontal_bar_chart(fd_sorted.head(25), 'green')\n",
    "\n",
    "freq_dict = defaultdict(int)\n",
    "for sent in review_neu[\"reviews\"]:\n",
    "    for word in generate_ngrams(sent, 2):\n",
    "        freq_dict[word] += 1\n",
    "fd_sorted = pd.DataFrame(sorted(freq_dict.items(), key=lambda x:x[1])[::-1])\n",
    "fd_sorted.columns = [\"word\", \"wordcount\"]\n",
    "trace1 = horizontal_bar_chart(fd_sorted.head(25), 'grey')\n",
    "\n",
    "freq_dict = defaultdict(int)\n",
    "for sent in review_neg[\"reviews\"]:\n",
    "    for word in generate_ngrams(sent, 2):\n",
    "        freq_dict[word] += 1\n",
    "fd_sorted = pd.DataFrame(sorted(freq_dict.items(), key=lambda x:x[1])[::-1])\n",
    "fd_sorted.columns = [\"word\", \"wordcount\"]\n",
    "trace2 = horizontal_bar_chart(fd_sorted.head(25), 'brown')\n",
    "    \n",
    "\n",
    "\n",
    "fig = tools.make_subplots(rows=3, cols=1, vertical_spacing=0.04,horizontal_spacing=0.25,\n",
    "                          subplot_titles=[\"Bigram plots of Positive reviews\", \n",
    "                                          \"Bigram plots of Neutral reviews\",\n",
    "                                          \"Bigram plots of Negative reviews\"\n",
    "                                          ])\n",
    "fig.append_trace(trace0, 1, 1)\n",
    "fig.append_trace(trace1, 2, 1)\n",
    "fig.append_trace(trace2, 3, 1)\n",
    "\n",
    "fig['layout'].update(height=1000, width=800, paper_bgcolor='rgb(233,233,233)', title=\"Bigram Plots\")\n",
    "iplot(fig, filename='word-plots')"
   ]
  },
  {
   "cell_type": "markdown",
   "id": "3da5c280",
   "metadata": {
    "papermill": {
     "duration": 0.137779,
     "end_time": "2023-03-13T11:43:47.487650",
     "exception": false,
     "start_time": "2023-03-13T11:43:47.349871",
     "status": "completed"
    },
    "tags": []
   },
   "source": [
    "# Trigram Analysis"
   ]
  },
  {
   "cell_type": "code",
   "execution_count": null,
   "id": "07442aa5",
   "metadata": {
    "execution": {
     "iopub.execute_input": "2023-03-13T11:43:47.763564Z",
     "iopub.status.busy": "2023-03-13T11:43:47.763116Z",
     "iopub.status.idle": "2023-03-13T11:43:48.563416Z",
     "shell.execute_reply": "2023-03-13T11:43:48.562466Z"
    },
    "papermill": {
     "duration": 0.945195,
     "end_time": "2023-03-13T11:43:48.565827",
     "exception": false,
     "start_time": "2023-03-13T11:43:47.620632",
     "status": "completed"
    },
    "tags": []
   },
   "outputs": [],
   "source": [
    "freq_dict = defaultdict(int)\n",
    "for sent in review_pos[\"reviews\"]:\n",
    "    for word in generate_ngrams(sent, 3):\n",
    "        freq_dict[word] += 1\n",
    "fd_sorted = pd.DataFrame(sorted(freq_dict.items(), key=lambda x:x[1])[::-1])\n",
    "fd_sorted.columns = [\"word\", \"wordcount\"]\n",
    "trace0 = horizontal_bar_chart(fd_sorted.head(25), 'green')\n",
    "\n",
    "freq_dict = defaultdict(int)\n",
    "for sent in review_neu[\"reviews\"]:\n",
    "    for word in generate_ngrams(sent, 3):\n",
    "        freq_dict[word] += 1\n",
    "fd_sorted = pd.DataFrame(sorted(freq_dict.items(), key=lambda x:x[1])[::-1])\n",
    "fd_sorted.columns = [\"word\", \"wordcount\"]\n",
    "trace1 = horizontal_bar_chart(fd_sorted.head(25), 'grey')\n",
    "\n",
    "freq_dict = defaultdict(int)\n",
    "for sent in review_neg[\"reviews\"]:\n",
    "    for word in generate_ngrams(sent, 3):\n",
    "        freq_dict[word] += 1\n",
    "fd_sorted = pd.DataFrame(sorted(freq_dict.items(), key=lambda x:x[1])[::-1])\n",
    "fd_sorted.columns = [\"word\", \"wordcount\"]\n",
    "trace2 = horizontal_bar_chart(fd_sorted.head(25), 'brown')\n",
    "    \n",
    "\n",
    "\n",
    "fig = tools.make_subplots(rows=3, cols=1, vertical_spacing=0.04,horizontal_spacing=0.25,\n",
    "                          subplot_titles=[\"Bigram plots of Positive reviews\", \n",
    "                                          \"Bigram plots of Neutral reviews\",\n",
    "                                          \"Bigram plots of Negative reviews\"\n",
    "                                          ])\n",
    "fig.append_trace(trace0, 1, 1)\n",
    "fig.append_trace(trace1, 2, 1)\n",
    "fig.append_trace(trace2, 3, 1)\n",
    "\n",
    "fig['layout'].update(height=1000, width=800, paper_bgcolor='rgb(233,233,233)', title=\"Bigram Plots\")\n",
    "iplot(fig, filename='word-plots')"
   ]
  },
  {
   "cell_type": "markdown",
   "id": "5f316584",
   "metadata": {
    "papermill": {
     "duration": 0.13997,
     "end_time": "2023-03-13T11:43:48.846556",
     "exception": false,
     "start_time": "2023-03-13T11:43:48.706586",
     "status": "completed"
    },
    "tags": []
   },
   "source": [
    "## Wordcloud "
   ]
  },
  {
   "cell_type": "markdown",
   "id": "2ef7450d",
   "metadata": {
    "papermill": {
     "duration": 0.146161,
     "end_time": "2023-03-13T11:43:49.135186",
     "exception": false,
     "start_time": "2023-03-13T11:43:48.989025",
     "status": "completed"
    },
    "tags": []
   },
   "source": [
    "### Positive wordcloud"
   ]
  },
  {
   "cell_type": "code",
   "execution_count": null,
   "id": "2e34d86a",
   "metadata": {
    "execution": {
     "iopub.execute_input": "2023-03-13T11:43:49.421487Z",
     "iopub.status.busy": "2023-03-13T11:43:49.420942Z",
     "iopub.status.idle": "2023-03-13T11:43:56.824957Z",
     "shell.execute_reply": "2023-03-13T11:43:56.823970Z"
    },
    "papermill": {
     "duration": 7.56109,
     "end_time": "2023-03-13T11:43:56.836923",
     "exception": false,
     "start_time": "2023-03-13T11:43:49.275833",
     "status": "completed"
    },
    "tags": []
   },
   "outputs": [],
   "source": [
    "text = review_pos[\"reviews\"]\n",
    "wordcloud = WordCloud(\n",
    "    width = 3000,\n",
    "    height = 2000,\n",
    "    background_color = 'black',\n",
    "    stopwords = STOPWORDS\n",
    "    ).generate(str(text))\n",
    "fig = plt.figure(\n",
    "    figsize = (40, 30),\n",
    "    facecolor = 'k',\n",
    "    edgecolor = 'k'\n",
    "    )\n",
    "plt.imshow(wordcloud, interpolation='bilinear')\n",
    "plt.axis('off')\n",
    "plt.tight_layout(pad=0)\n",
    "plt.show()"
   ]
  },
  {
   "cell_type": "markdown",
   "id": "15eaa29e",
   "metadata": {
    "papermill": {
     "duration": 0.160645,
     "end_time": "2023-03-13T11:43:57.152919",
     "exception": false,
     "start_time": "2023-03-13T11:43:56.992274",
     "status": "completed"
    },
    "tags": []
   },
   "source": [
    "### Neutral Wordcloud"
   ]
  },
  {
   "cell_type": "code",
   "execution_count": null,
   "id": "90397e7a",
   "metadata": {
    "execution": {
     "iopub.execute_input": "2023-03-13T11:43:57.467103Z",
     "iopub.status.busy": "2023-03-13T11:43:57.466120Z",
     "iopub.status.idle": "2023-03-13T11:44:04.398608Z",
     "shell.execute_reply": "2023-03-13T11:44:04.397650Z"
    },
    "papermill": {
     "duration": 7.101711,
     "end_time": "2023-03-13T11:44:04.409332",
     "exception": false,
     "start_time": "2023-03-13T11:43:57.307621",
     "status": "completed"
    },
    "tags": []
   },
   "outputs": [],
   "source": [
    "text = review_neu[\"reviews\"]\n",
    "wordcloud = WordCloud(\n",
    "    width = 3000,\n",
    "    height = 2000,\n",
    "    background_color = 'black',\n",
    "    stopwords = STOPWORDS).generate(str(text))\n",
    "fig = plt.figure(\n",
    "    figsize = (40, 30),\n",
    "    facecolor = 'k',\n",
    "    edgecolor = 'k')\n",
    "plt.imshow(wordcloud, interpolation = 'bilinear')\n",
    "plt.axis('off')\n",
    "plt.tight_layout(pad=0)\n",
    "plt.show()"
   ]
  },
  {
   "cell_type": "markdown",
   "id": "3fd0b88d",
   "metadata": {
    "papermill": {
     "duration": 0.174135,
     "end_time": "2023-03-13T11:44:04.761680",
     "exception": false,
     "start_time": "2023-03-13T11:44:04.587545",
     "status": "completed"
    },
    "tags": []
   },
   "source": [
    "### Negative wordcloud"
   ]
  },
  {
   "cell_type": "code",
   "execution_count": null,
   "id": "e3c7ef70",
   "metadata": {
    "execution": {
     "iopub.execute_input": "2023-03-13T11:44:05.181423Z",
     "iopub.status.busy": "2023-03-13T11:44:05.181063Z",
     "iopub.status.idle": "2023-03-13T11:44:13.305107Z",
     "shell.execute_reply": "2023-03-13T11:44:13.303327Z"
    },
    "papermill": {
     "duration": 8.382585,
     "end_time": "2023-03-13T11:44:13.318716",
     "exception": false,
     "start_time": "2023-03-13T11:44:04.936131",
     "status": "completed"
    },
    "tags": []
   },
   "outputs": [],
   "source": [
    "text = review_neg[\"reviews\"]\n",
    "wordcloud = WordCloud(\n",
    "    width = 3000,\n",
    "    height = 2000,\n",
    "    background_color = 'black',\n",
    "    stopwords = STOPWORDS\n",
    "    ).generate(str(text))\n",
    "fig = plt.figure(\n",
    "    figsize = (40, 30),\n",
    "    facecolor = 'k',\n",
    "    edgecolor = 'k'\n",
    "    )\n",
    "plt.imshow(wordcloud, interpolation = 'bilinear')\n",
    "plt.axis('off')\n",
    "plt.tight_layout(pad=0)\n",
    "plt.show()"
   ]
  },
  {
   "cell_type": "code",
   "execution_count": null,
   "id": "9ee5c63d",
   "metadata": {
    "execution": {
     "iopub.execute_input": "2023-03-13T11:44:13.724711Z",
     "iopub.status.busy": "2023-03-13T11:44:13.724112Z",
     "iopub.status.idle": "2023-03-13T11:44:13.742234Z",
     "shell.execute_reply": "2023-03-13T11:44:13.741237Z"
    },
    "papermill": {
     "duration": 0.222276,
     "end_time": "2023-03-13T11:44:13.744246",
     "exception": false,
     "start_time": "2023-03-13T11:44:13.521970",
     "status": "completed"
    },
    "tags": []
   },
   "outputs": [],
   "source": [
    "process_reviews.head()"
   ]
  },
  {
   "cell_type": "code",
   "execution_count": null,
   "id": "0938f1df",
   "metadata": {
    "execution": {
     "iopub.execute_input": "2023-03-13T11:44:14.150336Z",
     "iopub.status.busy": "2023-03-13T11:44:14.149484Z",
     "iopub.status.idle": "2023-03-13T11:44:14.161834Z",
     "shell.execute_reply": "2023-03-13T11:44:14.159819Z"
    },
    "papermill": {
     "duration": 0.222011,
     "end_time": "2023-03-13T11:44:14.164930",
     "exception": false,
     "start_time": "2023-03-13T11:44:13.942919",
     "status": "completed"
    },
    "tags": []
   },
   "outputs": [],
   "source": [
    "label_encoder = preprocessing.LabelEncoder()\n",
    "\n",
    "process_reviews['sentiment'] = label_encoder.fit_transform(process_reviews[\"sentiment\"])\n",
    "\n",
    "process_reviews['sentiment'].unique()"
   ]
  },
  {
   "cell_type": "markdown",
   "id": "d163260d",
   "metadata": {
    "papermill": {
     "duration": 0.192044,
     "end_time": "2023-03-13T11:44:14.553264",
     "exception": false,
     "start_time": "2023-03-13T11:44:14.361220",
     "status": "completed"
    },
    "tags": []
   },
   "source": [
    "### 2 - Positive\n",
    "### 1 - Neutral\n",
    "### 0 - Negative"
   ]
  },
  {
   "cell_type": "code",
   "execution_count": null,
   "id": "69895b47",
   "metadata": {
    "execution": {
     "iopub.execute_input": "2023-03-13T11:44:14.952767Z",
     "iopub.status.busy": "2023-03-13T11:44:14.952144Z",
     "iopub.status.idle": "2023-03-13T11:44:14.961435Z",
     "shell.execute_reply": "2023-03-13T11:44:14.960344Z"
    },
    "papermill": {
     "duration": 0.211681,
     "end_time": "2023-03-13T11:44:14.963528",
     "exception": false,
     "start_time": "2023-03-13T11:44:14.751847",
     "status": "completed"
    },
    "tags": []
   },
   "outputs": [],
   "source": [
    "process_reviews['sentiment'].value_counts()\n"
   ]
  },
  {
   "cell_type": "code",
   "execution_count": null,
   "id": "02659210",
   "metadata": {
    "execution": {
     "iopub.execute_input": "2023-03-13T11:44:15.362243Z",
     "iopub.status.busy": "2023-03-13T11:44:15.361672Z",
     "iopub.status.idle": "2023-03-13T11:44:15.375827Z",
     "shell.execute_reply": "2023-03-13T11:44:15.374116Z"
    },
    "papermill": {
     "duration": 0.212716,
     "end_time": "2023-03-13T11:44:15.378177",
     "exception": false,
     "start_time": "2023-03-13T11:44:15.165461",
     "status": "completed"
    },
    "tags": []
   },
   "outputs": [],
   "source": [
    "review_features = process_reviews.copy()\n",
    "review_features = review_features[['reviews']].reset_index(drop=True)\n",
    "review_features.head()"
   ]
  },
  {
   "cell_type": "code",
   "execution_count": null,
   "id": "a0af89e4",
   "metadata": {
    "execution": {
     "iopub.execute_input": "2023-03-13T11:44:15.777756Z",
     "iopub.status.busy": "2023-03-13T11:44:15.776902Z",
     "iopub.status.idle": "2023-03-13T11:44:30.225141Z",
     "shell.execute_reply": "2023-03-13T11:44:30.223905Z"
    },
    "papermill": {
     "duration": 14.649479,
     "end_time": "2023-03-13T11:44:30.228079",
     "exception": false,
     "start_time": "2023-03-13T11:44:15.578600",
     "status": "completed"
    },
    "tags": []
   },
   "outputs": [],
   "source": [
    "ps = PorterStemmer()\n",
    "corpus = []\n",
    "for i in range(0, len(review_features)):\n",
    "    review =  re.sub('[^a-zA-Z]', ' ', review_features['reviews'][i])\n",
    "    review = review.split()\n",
    "    review = [ps.stem(word) for word in review if not word in stop_words]\n",
    "    review = ' '.join(review)\n",
    "    corpus.append(review)"
   ]
  },
  {
   "cell_type": "code",
   "execution_count": null,
   "id": "0bf7ad68",
   "metadata": {
    "execution": {
     "iopub.execute_input": "2023-03-13T11:44:30.623530Z",
     "iopub.status.busy": "2023-03-13T11:44:30.622791Z",
     "iopub.status.idle": "2023-03-13T11:44:30.628786Z",
     "shell.execute_reply": "2023-03-13T11:44:30.628019Z"
    },
    "papermill": {
     "duration": 0.205015,
     "end_time": "2023-03-13T11:44:30.630686",
     "exception": false,
     "start_time": "2023-03-13T11:44:30.425671",
     "status": "completed"
    },
    "tags": []
   },
   "outputs": [],
   "source": [
    "corpus[10]"
   ]
  },
  {
   "cell_type": "code",
   "execution_count": null,
   "id": "7b04879b",
   "metadata": {
    "execution": {
     "iopub.execute_input": "2023-03-13T11:44:31.033270Z",
     "iopub.status.busy": "2023-03-13T11:44:31.032881Z",
     "iopub.status.idle": "2023-03-13T11:44:34.340122Z",
     "shell.execute_reply": "2023-03-13T11:44:34.338079Z"
    },
    "papermill": {
     "duration": 3.513049,
     "end_time": "2023-03-13T11:44:34.343054",
     "exception": false,
     "start_time": "2023-03-13T11:44:30.830005",
     "status": "completed"
    },
    "tags": []
   },
   "outputs": [],
   "source": [
    "tfidf_vectorizer = TfidfVectorizer(max_features = 2000, ngram_range=(1,2))\n",
    "vectorizer = tfidf_vectorizer.fit(review_features['reviews'])\n",
    "X = vectorizer.transform(review_features['reviews'])"
   ]
  },
  {
   "cell_type": "code",
   "execution_count": null,
   "id": "54cafff7",
   "metadata": {
    "execution": {
     "iopub.execute_input": "2023-03-13T11:44:34.741930Z",
     "iopub.status.busy": "2023-03-13T11:44:34.741506Z",
     "iopub.status.idle": "2023-03-13T11:44:34.747603Z",
     "shell.execute_reply": "2023-03-13T11:44:34.746700Z"
    },
    "papermill": {
     "duration": 0.209858,
     "end_time": "2023-03-13T11:44:34.749459",
     "exception": false,
     "start_time": "2023-03-13T11:44:34.539601",
     "status": "completed"
    },
    "tags": []
   },
   "outputs": [],
   "source": [
    "X"
   ]
  },
  {
   "cell_type": "code",
   "execution_count": null,
   "id": "fe82db40",
   "metadata": {
    "execution": {
     "iopub.execute_input": "2023-03-13T11:44:35.154844Z",
     "iopub.status.busy": "2023-03-13T11:44:35.154485Z",
     "iopub.status.idle": "2023-03-13T11:44:35.160310Z",
     "shell.execute_reply": "2023-03-13T11:44:35.158504Z"
    },
    "papermill": {
     "duration": 0.213011,
     "end_time": "2023-03-13T11:44:35.163464",
     "exception": false,
     "start_time": "2023-03-13T11:44:34.950453",
     "status": "completed"
    },
    "tags": []
   },
   "outputs": [],
   "source": [
    "y=process_reviews['sentiment']"
   ]
  },
  {
   "cell_type": "code",
   "execution_count": null,
   "id": "a0d3ddcb",
   "metadata": {
    "execution": {
     "iopub.execute_input": "2023-03-13T11:44:35.569786Z",
     "iopub.status.busy": "2023-03-13T11:44:35.569383Z",
     "iopub.status.idle": "2023-03-13T11:44:35.699792Z",
     "shell.execute_reply": "2023-03-13T11:44:35.699028Z"
    },
    "papermill": {
     "duration": 0.333232,
     "end_time": "2023-03-13T11:44:35.701917",
     "exception": false,
     "start_time": "2023-03-13T11:44:35.368685",
     "status": "completed"
    },
    "tags": []
   },
   "outputs": [],
   "source": [
    "print(f\"Original dataset shape: {Counter(y)}\")\n",
    "\n",
    "smote = SMOTE(random_state=42)\n",
    "X_res, y_res = smote.fit_resample(X,y)\n",
    "\n",
    "print(f\"Resampled dataset shape: {Counter(y_res)}\")"
   ]
  },
  {
   "cell_type": "code",
   "execution_count": null,
   "id": "a577bd8c",
   "metadata": {
    "execution": {
     "iopub.execute_input": "2023-03-13T11:44:36.100238Z",
     "iopub.status.busy": "2023-03-13T11:44:36.099853Z",
     "iopub.status.idle": "2023-03-13T11:44:36.114843Z",
     "shell.execute_reply": "2023-03-13T11:44:36.113578Z"
    },
    "papermill": {
     "duration": 0.215757,
     "end_time": "2023-03-13T11:44:36.117642",
     "exception": false,
     "start_time": "2023-03-13T11:44:35.901885",
     "status": "completed"
    },
    "tags": []
   },
   "outputs": [],
   "source": [
    "X_train, X_test, y_train, y_test = train_test_split(X_res, y_res, test_size=0.25, random_state=0)"
   ]
  },
  {
   "cell_type": "code",
   "execution_count": null,
   "id": "e35756ad",
   "metadata": {
    "execution": {
     "iopub.execute_input": "2023-03-13T11:44:36.515800Z",
     "iopub.status.busy": "2023-03-13T11:44:36.515433Z",
     "iopub.status.idle": "2023-03-13T11:44:36.525112Z",
     "shell.execute_reply": "2023-03-13T11:44:36.523346Z"
    },
    "papermill": {
     "duration": 0.214191,
     "end_time": "2023-03-13T11:44:36.527887",
     "exception": false,
     "start_time": "2023-03-13T11:44:36.313696",
     "status": "completed"
    },
    "tags": []
   },
   "outputs": [],
   "source": [
    "def plot_confusion_matrix(cm, classes, normalize=False, title=\"Confusion matrix\", cmap=plt.cm.Blues):\n",
    "    \"\"\"\n",
    "    This function prints and plots the confusion matrix.\n",
    "    Normalization can be applied by setting `normalized = True`\n",
    "    \"\"\"\n",
    "    \n",
    "    plt.imshow(cm, interpolation='nearest', cmap=cmap)\n",
    "    plt.title(title)\n",
    "    plt.colorbar()\n",
    "    tick_marks = np.arange(len(classes))\n",
    "    plt.xticks(tick_marks, classes, rotation=45)\n",
    "    plt.yticks(tick_marks, classes)\n",
    "    \n",
    "    if normalize:\n",
    "        cm = cm.astype('float')/cm.sum(axis=1)[:, np.newaxis]\n",
    "        print('Normalized confusion matrix')\n",
    "    else:\n",
    "        print(\"Confusion matrix, without normalization\")\n",
    "        \n",
    "    thresh = cm.max()/2.\n",
    "    for i in range(cm.shape[0]):\n",
    "        for j in range(cm.shape[1]):\n",
    "            plt.text(j, i, cm[i, j], horizontalalignment=\"center\", color=\"white\" if cm[i, j]>thresh else \"black\")\n",
    "            \n",
    "    plt.tight_layout()\n",
    "    plt.ylabel(\"True Label\")\n",
    "    plt.xlabel('predicted label')\n",
    "    "
   ]
  },
  {
   "cell_type": "code",
   "execution_count": null,
   "id": "e1e0dcbf",
   "metadata": {
    "execution": {
     "iopub.execute_input": "2023-03-13T11:44:36.934121Z",
     "iopub.status.busy": "2023-03-13T11:44:36.933290Z",
     "iopub.status.idle": "2023-03-13T11:45:06.373757Z",
     "shell.execute_reply": "2023-03-13T11:45:06.372763Z"
    },
    "papermill": {
     "duration": 29.648378,
     "end_time": "2023-03-13T11:45:06.375908",
     "exception": false,
     "start_time": "2023-03-13T11:44:36.727530",
     "status": "completed"
    },
    "tags": []
   },
   "outputs": [],
   "source": [
    "from sklearn.ensemble import RandomForestClassifier\n",
    "\n",
    "rf = RandomForestClassifier()\n",
    "rf = rf.fit(X_train, y_train)\n",
    "\n",
    "from sklearn.metrics import accuracy_score\n",
    "accuracy_score(y_test, rf.predict(X_test))\n"
   ]
  },
  {
   "cell_type": "code",
   "execution_count": null,
   "id": "c5c9c929",
   "metadata": {
    "execution": {
     "iopub.execute_input": "2023-03-13T11:45:06.779041Z",
     "iopub.status.busy": "2023-03-13T11:45:06.778601Z",
     "iopub.status.idle": "2023-03-13T11:45:07.116579Z",
     "shell.execute_reply": "2023-03-13T11:45:07.114960Z"
    },
    "papermill": {
     "duration": 0.545034,
     "end_time": "2023-03-13T11:45:07.120020",
     "exception": false,
     "start_time": "2023-03-13T11:45:06.574986",
     "status": "completed"
    },
    "tags": []
   },
   "outputs": [],
   "source": [
    "from sklearn.metrics import f1_score\n",
    "f1_score(y_test, rf.predict(X_test), average='macro')"
   ]
  },
  {
   "cell_type": "code",
   "execution_count": null,
   "id": "39ec90dd",
   "metadata": {
    "execution": {
     "iopub.execute_input": "2023-03-13T11:45:07.534879Z",
     "iopub.status.busy": "2023-03-13T11:45:07.534446Z",
     "iopub.status.idle": "2023-03-13T11:45:07.541348Z",
     "shell.execute_reply": "2023-03-13T11:45:07.539818Z"
    },
    "papermill": {
     "duration": 0.227264,
     "end_time": "2023-03-13T11:45:07.544266",
     "exception": false,
     "start_time": "2023-03-13T11:45:07.317002",
     "status": "completed"
    },
    "tags": []
   },
   "outputs": [],
   "source": [
    "def preprocess(sentence):\n",
    "    sentence = review_cleaning(sentence)\n",
    "    sentence = ' '.join([word for word in sentence.split() if word not in (stop_words)])\n",
    "    sentence =  re.sub('[^a-zA-Z]', ' ', sentence)\n",
    "    sentence = sentence.split()\n",
    "    sentence = [ps.stem(word) for word in sentence if not word in stop_words]\n",
    "    sentence = ' '.join(sentence)\n",
    "    return sentence"
   ]
  },
  {
   "cell_type": "code",
   "execution_count": null,
   "id": "84fc155b",
   "metadata": {
    "execution": {
     "iopub.execute_input": "2023-03-13T11:45:07.959419Z",
     "iopub.status.busy": "2023-03-13T11:45:07.958322Z",
     "iopub.status.idle": "2023-03-13T11:45:07.963608Z",
     "shell.execute_reply": "2023-03-13T11:45:07.962529Z"
    },
    "papermill": {
     "duration": 0.214797,
     "end_time": "2023-03-13T11:45:07.966457",
     "exception": false,
     "start_time": "2023-03-13T11:45:07.751660",
     "status": "completed"
    },
    "tags": []
   },
   "outputs": [],
   "source": [
    "def vectorize(sentence):\n",
    "    return vectorizer.transform([sentence])\n"
   ]
  },
  {
   "cell_type": "code",
   "execution_count": null,
   "id": "6658d696",
   "metadata": {
    "execution": {
     "iopub.execute_input": "2023-03-13T11:45:08.412863Z",
     "iopub.status.busy": "2023-03-13T11:45:08.412188Z",
     "iopub.status.idle": "2023-03-13T11:45:08.421372Z",
     "shell.execute_reply": "2023-03-13T11:45:08.420201Z"
    },
    "papermill": {
     "duration": 0.237811,
     "end_time": "2023-03-13T11:45:08.424137",
     "exception": false,
     "start_time": "2023-03-13T11:45:08.186326",
     "status": "completed"
    },
    "tags": []
   },
   "outputs": [],
   "source": [
    "sentence = \"The guitar strings looked good but every string was broken. Worst Experience. Wouldn't Recommend to anyone. The guitar strings looked good but every string was broken. Worst Experience. Wouldn't Recommend to anyone.\"\n",
    "print(preprocess(sentence))\n",
    "X_check = vectorize(preprocess(sentence))"
   ]
  },
  {
   "cell_type": "markdown",
   "id": "e963c8e9",
   "metadata": {
    "papermill": {
     "duration": 0.194489,
     "end_time": "2023-03-13T11:45:08.825706",
     "exception": false,
     "start_time": "2023-03-13T11:45:08.631217",
     "status": "completed"
    },
    "tags": []
   },
   "source": [
    "## Model Selection"
   ]
  },
  {
   "cell_type": "code",
   "execution_count": null,
   "id": "d97a0b48",
   "metadata": {
    "execution": {
     "iopub.execute_input": "2023-03-13T11:45:09.283084Z",
     "iopub.status.busy": "2023-03-13T11:45:09.282109Z",
     "iopub.status.idle": "2023-03-13T11:49:03.813647Z",
     "shell.execute_reply": "2023-03-13T11:49:03.812576Z"
    },
    "papermill": {
     "duration": 234.927043,
     "end_time": "2023-03-13T11:49:04.009021",
     "exception": false,
     "start_time": "2023-03-13T11:45:09.081978",
     "status": "completed"
    },
    "tags": []
   },
   "outputs": [],
   "source": [
    "logreg_cv = LogisticRegression(random_state=0)\n",
    "dt_cv = DecisionTreeClassifier()\n",
    "knn_cv = KNeighborsClassifier()\n",
    "svc_cv = SVC()\n",
    "nb_cv = BernoulliNB()\n",
    "\n",
    "cv_dict = {0: \"Logistic Regression\", 1: \"Decision Tree\", 2: \"KNN\", 3:\"SVC\", 4: \"Naive Bayes\"}\n",
    "cv_models = [logreg_cv, dt_cv, knn_cv, svc_cv, nb_cv]\n",
    "\n",
    "for i, model in enumerate(cv_models):\n",
    "    print(\"{} Test Accuracy: {}\".format(cv_dict[i], cross_val_score(model, X, y, cv=10, scoring='accuracy').mean()))"
   ]
  },
  {
   "cell_type": "code",
   "execution_count": null,
   "id": "2c18306e",
   "metadata": {
    "execution": {
     "iopub.execute_input": "2023-03-13T11:49:04.401472Z",
     "iopub.status.busy": "2023-03-13T11:49:04.401052Z",
     "iopub.status.idle": "2023-03-13T11:50:45.853719Z",
     "shell.execute_reply": "2023-03-13T11:50:45.852326Z"
    },
    "papermill": {
     "duration": 101.651716,
     "end_time": "2023-03-13T11:50:45.856086",
     "exception": false,
     "start_time": "2023-03-13T11:49:04.204370",
     "status": "completed"
    },
    "tags": []
   },
   "outputs": [],
   "source": [
    "param_grid = {\"C\":np.logspace(-4, 4, 50),\n",
    "             'penalty': ['l1', 'l2']}\n",
    "clf = GridSearchCV(LogisticRegression(random_state=0, max_iter=100), param_grid, cv=5, verbose=0, n_jobs=-1)\n",
    "best_model = clf.fit(X_train, y_train)\n",
    "print(best_model.best_estimator_)\n",
    "print(\"The mean accuracy of the model is: \", best_model.score(X_test, y_test))"
   ]
  },
  {
   "cell_type": "code",
   "execution_count": null,
   "id": "c4b1dbf4",
   "metadata": {
    "execution": {
     "iopub.execute_input": "2023-03-13T11:50:46.265326Z",
     "iopub.status.busy": "2023-03-13T11:50:46.264959Z",
     "iopub.status.idle": "2023-03-13T11:50:48.671766Z",
     "shell.execute_reply": "2023-03-13T11:50:48.669850Z"
    },
    "papermill": {
     "duration": 2.613796,
     "end_time": "2023-03-13T11:50:48.675058",
     "exception": false,
     "start_time": "2023-03-13T11:50:46.061262",
     "status": "completed"
    },
    "tags": []
   },
   "outputs": [],
   "source": [
    "logreg = LogisticRegression(C=10000.0, random_state=0)\n",
    "logreg.fit(X_train, y_train)\n",
    "y_pred = logreg.predict(X_test)\n",
    "print(\"Accuracy of logistic regression classifier on test set: {:.2f}\".format(logreg.score(X_test, y_test)))"
   ]
  },
  {
   "cell_type": "code",
   "execution_count": null,
   "id": "5b19fbf3",
   "metadata": {
    "execution": {
     "iopub.execute_input": "2023-03-13T11:50:49.070802Z",
     "iopub.status.busy": "2023-03-13T11:50:49.070378Z",
     "iopub.status.idle": "2023-03-13T11:50:49.382317Z",
     "shell.execute_reply": "2023-03-13T11:50:49.381066Z"
    },
    "papermill": {
     "duration": 0.510269,
     "end_time": "2023-03-13T11:50:49.384432",
     "exception": false,
     "start_time": "2023-03-13T11:50:48.874163",
     "status": "completed"
    },
    "tags": []
   },
   "outputs": [],
   "source": [
    "cm = metrics.confusion_matrix(y_test, y_pred)\n",
    "plot_confusion_matrix(cm, classes=['Negative', 'Neutral', 'Positive'])"
   ]
  },
  {
   "cell_type": "code",
   "execution_count": null,
   "id": "6bdfa14a",
   "metadata": {
    "execution": {
     "iopub.execute_input": "2023-03-13T11:50:49.777905Z",
     "iopub.status.busy": "2023-03-13T11:50:49.777507Z",
     "iopub.status.idle": "2023-03-13T11:50:49.794023Z",
     "shell.execute_reply": "2023-03-13T11:50:49.792428Z"
    },
    "papermill": {
     "duration": 0.215592,
     "end_time": "2023-03-13T11:50:49.796086",
     "exception": false,
     "start_time": "2023-03-13T11:50:49.580494",
     "status": "completed"
    },
    "tags": []
   },
   "outputs": [],
   "source": [
    "print(\"Classification Report:\\n\", classification_report(y_test, y_pred\n",
    "                                                       ))"
   ]
  },
  {
   "cell_type": "code",
   "execution_count": null,
   "id": "70d2b292",
   "metadata": {
    "execution": {
     "iopub.execute_input": "2023-03-13T11:50:50.191421Z",
     "iopub.status.busy": "2023-03-13T11:50:50.189818Z",
     "iopub.status.idle": "2023-03-13T11:52:03.568940Z",
     "shell.execute_reply": "2023-03-13T11:52:03.567445Z"
    },
    "papermill": {
     "duration": 73.579791,
     "end_time": "2023-03-13T11:52:03.571759",
     "exception": false,
     "start_time": "2023-03-13T11:50:49.991968",
     "status": "completed"
    },
    "tags": []
   },
   "outputs": [],
   "source": [
    "y = label_binarize(y, classes=[0, 1, 2])\n",
    "n_classes = y.shape[1]\n",
    "\n",
    "X_train, X_test, y_train, y_test = train_test_split(X, y, test_size=0.2, random_state=0)\n",
    "\n",
    "classifier = OneVsRestClassifier(svm.SVC(kernel='linear', probability=True, random_state=10))\n",
    "y_score = classifier.fit(X_train, y_train).decision_function(X_test)\n"
   ]
  },
  {
   "cell_type": "code",
   "execution_count": null,
   "id": "5cd9e877",
   "metadata": {
    "execution": {
     "iopub.execute_input": "2023-03-13T11:52:03.971223Z",
     "iopub.status.busy": "2023-03-13T11:52:03.970867Z",
     "iopub.status.idle": "2023-03-13T11:52:04.279582Z",
     "shell.execute_reply": "2023-03-13T11:52:04.278244Z"
    },
    "papermill": {
     "duration": 0.508601,
     "end_time": "2023-03-13T11:52:04.282492",
     "exception": false,
     "start_time": "2023-03-13T11:52:03.773891",
     "status": "completed"
    },
    "tags": []
   },
   "outputs": [],
   "source": [
    "fpr = dict()\n",
    "tpr = dict()\n",
    "roc_auc = dict()\n",
    "for i in range(n_classes):\n",
    "    fpr[i], tpr[i], _ = roc_curve(y_test[:, i], y_score[:, i])\n",
    "    roc_auc[i] = auc(fpr[i], tpr[i])\n",
    "    \n",
    "fpr[\"micro\"], tpr[\"micro\"], _ = roc_curve(y_test.ravel(), y_score.ravel())\n",
    "roc_auc[\"micro\"] = auc(fpr[\"micro\"], tpr[\"micro\"])\n",
    "\n",
    "all_fpr = np.unique(np.concatenate([fpr[i] for i in range(n_classes)]))\n",
    "mean_tpr = np.zeros_like(all_fpr)\n",
    "for i in range(n_classes):\n",
    "    mean_tpr += interp(all_fpr, fpr[i], tpr[i])\n",
    "mean_tpr /= n_classes\n",
    "\n",
    "fpr[\"macro\"] = all_fpr\n",
    "tpr[\"macro\"] = mean_tpr\n",
    "roc_auc[\"macro\"] = auc(fpr[\"macro\"], tpr[\"macro\"])\n",
    "\n",
    "plt.figure()\n",
    "plt.plot(fpr[\"micro\"], tpr[\"micro\"],\n",
    "        label = 'micro-average ROC curve (area = {0:0.2f})'\n",
    "         ''.format(roc_auc[\"micro\"]),\n",
    "         color='deeppink', linestyle=':', linewidth=4\n",
    "        )\n",
    "plt.plot(fpr[\"macro\"], tpr[\"macro\"],\n",
    "         label='macro-average ROC curve (area = {0:0.2f})'\n",
    "               ''.format(roc_auc[\"macro\"]),\n",
    "         color='navy', linestyle=':', linewidth=4)\n",
    "\n",
    "colors = cycle(['aqua', 'darkorange', 'cornflowerblue'])\n",
    "for i, color in zip(range(n_classes), colors):\n",
    "    plt.plot(fpr[i], tpr[i], color=color, lw=4,\n",
    "             label='ROC curve of class {0} (area = {1:0.2f})'\n",
    "             ''.format(i, roc_auc[i]))\n",
    "\n",
    "plt.plot([0, 1], [0, 1], 'k--', lw=4)\n",
    "plt.xlim([0.0, 1.0])\n",
    "plt.ylim([0.0, 1.05])\n",
    "plt.xlabel('False Positive Rate')\n",
    "plt.ylabel('True Positive Rate')\n",
    "plt.title('Receiver operating characteristic to multi-class')\n",
    "plt.legend(loc=\"lower right\")\n",
    "plt.show()"
   ]
  },
  {
   "cell_type": "code",
   "execution_count": null,
   "id": "dd2dfde5",
   "metadata": {
    "execution": {
     "iopub.execute_input": "2023-03-13T11:52:04.700231Z",
     "iopub.status.busy": "2023-03-13T11:52:04.699785Z",
     "iopub.status.idle": "2023-03-13T11:52:04.705192Z",
     "shell.execute_reply": "2023-03-13T11:52:04.703922Z"
    },
    "papermill": {
     "duration": 0.217066,
     "end_time": "2023-03-13T11:52:04.707322",
     "exception": false,
     "start_time": "2023-03-13T11:52:04.490256",
     "status": "completed"
    },
    "tags": []
   },
   "outputs": [],
   "source": [
    "sentence = \"Worst Instrument\"\n",
    "print(len(sentence))"
   ]
  },
  {
   "cell_type": "code",
   "execution_count": null,
   "id": "8ab71625",
   "metadata": {
    "execution": {
     "iopub.execute_input": "2023-03-13T11:52:05.109781Z",
     "iopub.status.busy": "2023-03-13T11:52:05.109128Z",
     "iopub.status.idle": "2023-03-13T11:52:05.116615Z",
     "shell.execute_reply": "2023-03-13T11:52:05.115086Z"
    },
    "papermill": {
     "duration": 0.210137,
     "end_time": "2023-03-13T11:52:05.119124",
     "exception": false,
     "start_time": "2023-03-13T11:52:04.908987",
     "status": "completed"
    },
    "tags": []
   },
   "outputs": [],
   "source": [
    "if len(sentence) < 100:\n",
    "    sentence = sentence * 2\n",
    "    print(sentence)\n",
    "    X_check = vectorize(preprocess(sentence))\n",
    "else:\n",
    "    X_check = vectorize(preprocess(sentence))"
   ]
  },
  {
   "cell_type": "code",
   "execution_count": null,
   "id": "b9d1b9d4",
   "metadata": {
    "execution": {
     "iopub.execute_input": "2023-03-13T11:52:05.527338Z",
     "iopub.status.busy": "2023-03-13T11:52:05.526914Z",
     "iopub.status.idle": "2023-03-13T11:52:05.534376Z",
     "shell.execute_reply": "2023-03-13T11:52:05.532859Z"
    },
    "papermill": {
     "duration": 0.215284,
     "end_time": "2023-03-13T11:52:05.537361",
     "exception": false,
     "start_time": "2023-03-13T11:52:05.322077",
     "status": "completed"
    },
    "tags": []
   },
   "outputs": [],
   "source": [
    "logreg.predict(X_check)"
   ]
  },
  {
   "cell_type": "code",
   "execution_count": null,
   "id": "6a1aaa8c",
   "metadata": {
    "execution": {
     "iopub.execute_input": "2023-03-13T11:52:05.945948Z",
     "iopub.status.busy": "2023-03-13T11:52:05.944908Z",
     "iopub.status.idle": "2023-03-13T11:52:06.106555Z",
     "shell.execute_reply": "2023-03-13T11:52:06.104801Z"
    },
    "papermill": {
     "duration": 0.368738,
     "end_time": "2023-03-13T11:52:06.109848",
     "exception": false,
     "start_time": "2023-03-13T11:52:05.741110",
     "status": "completed"
    },
    "tags": []
   },
   "outputs": [],
   "source": [
    "import pickle\n",
    "\n",
    "file = open('vectoriser-ngram-(2,2).pickle','wb')\n",
    "pickle.dump(vectorizer, file)\n",
    "file.close()"
   ]
  },
  {
   "cell_type": "code",
   "execution_count": null,
   "id": "4dd62326",
   "metadata": {
    "execution": {
     "iopub.execute_input": "2023-03-13T11:52:06.508821Z",
     "iopub.status.busy": "2023-03-13T11:52:06.508081Z",
     "iopub.status.idle": "2023-03-13T11:52:06.513385Z",
     "shell.execute_reply": "2023-03-13T11:52:06.512235Z"
    },
    "papermill": {
     "duration": 0.207828,
     "end_time": "2023-03-13T11:52:06.516128",
     "exception": false,
     "start_time": "2023-03-13T11:52:06.308300",
     "status": "completed"
    },
    "tags": []
   },
   "outputs": [],
   "source": [
    "\n",
    "\n",
    "file = open('logreg.pickle','wb')\n",
    "pickle.dump(logreg, file)\n",
    "file.close()"
   ]
  }
 ],
 "metadata": {
  "kernelspec": {
   "display_name": "Python 3",
   "language": "python",
   "name": "python3"
  },
  "language_info": {
   "codemirror_mode": {
    "name": "ipython",
    "version": 3
   },
   "file_extension": ".py",
   "mimetype": "text/x-python",
   "name": "python",
   "nbconvert_exporter": "python",
   "pygments_lexer": "ipython3",
   "version": "3.7.12"
  },
  "papermill": {
   "default_parameters": {},
   "duration": 533.979509,
   "end_time": "2023-03-13T11:52:09.340766",
   "environment_variables": {},
   "exception": null,
   "input_path": "__notebook__.ipynb",
   "output_path": "__notebook__.ipynb",
   "parameters": {},
   "start_time": "2023-03-13T11:43:15.361257",
   "version": "2.4.0"
  }
 },
 "nbformat": 4,
 "nbformat_minor": 5
}
