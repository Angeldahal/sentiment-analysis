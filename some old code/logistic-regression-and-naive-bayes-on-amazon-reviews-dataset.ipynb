{
 "cells": [
  {
   "cell_type": "markdown",
   "id": "20afdf4a",
   "metadata": {
    "papermill": {
     "duration": 0.00964,
     "end_time": "2023-03-06T08:03:06.580570",
     "exception": false,
     "start_time": "2023-03-06T08:03:06.570930",
     "status": "completed"
    },
    "tags": []
   },
   "source": [
    "****Import the required Libraries****"
   ]
  },
  {
   "cell_type": "code",
   "execution_count": null,
   "id": "48929092",
   "metadata": {
    "_cell_guid": "b1076dfc-b9ad-4769-8c92-a6c4dae69d19",
    "_uuid": "8f2839f25d086af736a60e9eeb907d3b93b6e0e5",
    "execution": {
     "iopub.execute_input": "2023-03-06T08:03:06.597607Z",
     "iopub.status.busy": "2023-03-06T08:03:06.597164Z",
     "iopub.status.idle": "2023-03-06T08:03:07.500754Z",
     "shell.execute_reply": "2023-03-06T08:03:07.499715Z"
    },
    "papermill": {
     "duration": 0.914953,
     "end_time": "2023-03-06T08:03:07.503331",
     "exception": false,
     "start_time": "2023-03-06T08:03:06.588378",
     "status": "completed"
    },
    "tags": []
   },
   "outputs": [],
   "source": [
    "# Importing the Necessary Libraries\n",
    "\n",
    "import pandas as pd\n",
    "import numpy as np\n",
    "import seaborn as sns\n",
    "import bz2\n",
    "import re\n",
    "import os\n",
    "import gc"
   ]
  },
  {
   "cell_type": "code",
   "execution_count": null,
   "id": "b708f552",
   "metadata": {
    "execution": {
     "iopub.execute_input": "2023-03-06T08:03:07.514711Z",
     "iopub.status.busy": "2023-03-06T08:03:07.514385Z",
     "iopub.status.idle": "2023-03-06T08:03:07.534803Z",
     "shell.execute_reply": "2023-03-06T08:03:07.533903Z"
    },
    "papermill": {
     "duration": 0.028432,
     "end_time": "2023-03-06T08:03:07.536987",
     "exception": false,
     "start_time": "2023-03-06T08:03:07.508555",
     "status": "completed"
    },
    "tags": []
   },
   "outputs": [],
   "source": [
    "# Read the train and test data\n",
    "train_data = bz2.BZ2File(\"/kaggle/input/amazonreviews/train.ft.txt.bz2\")\n",
    "test_data = bz2.BZ2File(\"/kaggle/input/amazonreviews/test.ft.txt.bz2\")"
   ]
  },
  {
   "cell_type": "code",
   "execution_count": null,
   "id": "a0fd6fa4",
   "metadata": {
    "execution": {
     "iopub.execute_input": "2023-03-06T08:03:07.547679Z",
     "iopub.status.busy": "2023-03-06T08:03:07.547391Z",
     "iopub.status.idle": "2023-03-06T08:03:07.552741Z",
     "shell.execute_reply": "2023-03-06T08:03:07.551645Z"
    },
    "papermill": {
     "duration": 0.013148,
     "end_time": "2023-03-06T08:03:07.554871",
     "exception": false,
     "start_time": "2023-03-06T08:03:07.541723",
     "status": "completed"
    },
    "tags": []
   },
   "outputs": [],
   "source": [
    "#extracting .bz2 file into list of texts and labels\n",
    "def load_extract(file):\n",
    "    texts, labels = [], []\n",
    "    for line in file:\n",
    "        x = line.decode('utf-8')\n",
    "        labels.append(int(x[9]) - 1)\n",
    "        texts.append(x[10:].strip())\n",
    "    print(\"Done\")\n",
    "    return np.array(labels), texts"
   ]
  },
  {
   "cell_type": "code",
   "execution_count": null,
   "id": "aa7f5995",
   "metadata": {
    "execution": {
     "iopub.execute_input": "2023-03-06T08:03:07.565765Z",
     "iopub.status.busy": "2023-03-06T08:03:07.564983Z",
     "iopub.status.idle": "2023-03-06T08:05:03.354695Z",
     "shell.execute_reply": "2023-03-06T08:05:03.353292Z"
    },
    "papermill": {
     "duration": 115.797511,
     "end_time": "2023-03-06T08:05:03.357010",
     "exception": false,
     "start_time": "2023-03-06T08:03:07.559499",
     "status": "completed"
    },
    "tags": []
   },
   "outputs": [],
   "source": [
    "train_labels, train_text = load_extract(train_data)\n",
    "test_labels, test_text = load_extract(test_data)"
   ]
  },
  {
   "cell_type": "code",
   "execution_count": null,
   "id": "1732cb9e",
   "metadata": {
    "execution": {
     "iopub.execute_input": "2023-03-06T08:05:03.368944Z",
     "iopub.status.busy": "2023-03-06T08:05:03.368083Z",
     "iopub.status.idle": "2023-03-06T08:05:03.377697Z",
     "shell.execute_reply": "2023-03-06T08:05:03.376730Z"
    },
    "papermill": {
     "duration": 0.017587,
     "end_time": "2023-03-06T08:05:03.379690",
     "exception": false,
     "start_time": "2023-03-06T08:05:03.362103",
     "status": "completed"
    },
    "tags": []
   },
   "outputs": [],
   "source": [
    "#example of text in dataset\n",
    "train_labels[1]"
   ]
  },
  {
   "cell_type": "markdown",
   "id": "69e6a37d",
   "metadata": {
    "papermill": {
     "duration": 0.004882,
     "end_time": "2023-03-06T08:05:03.389700",
     "exception": false,
     "start_time": "2023-03-06T08:05:03.384818",
     "status": "completed"
    },
    "tags": []
   },
   "source": [
    "**Preprocessing the text**"
   ]
  },
  {
   "cell_type": "code",
   "execution_count": null,
   "id": "4bc3d31d",
   "metadata": {
    "execution": {
     "iopub.execute_input": "2023-03-06T08:05:03.401096Z",
     "iopub.status.busy": "2023-03-06T08:05:03.400803Z",
     "iopub.status.idle": "2023-03-06T08:05:04.311999Z",
     "shell.execute_reply": "2023-03-06T08:05:04.310965Z"
    },
    "papermill": {
     "duration": 0.919571,
     "end_time": "2023-03-06T08:05:04.314457",
     "exception": false,
     "start_time": "2023-03-06T08:05:03.394886",
     "status": "completed"
    },
    "tags": []
   },
   "outputs": [],
   "source": [
    "import nltk\n",
    "from nltk.corpus import stopwords"
   ]
  },
  {
   "cell_type": "markdown",
   "id": "bc8f02aa",
   "metadata": {
    "papermill": {
     "duration": 0.004787,
     "end_time": "2023-03-06T08:05:04.324425",
     "exception": false,
     "start_time": "2023-03-06T08:05:04.319638",
     "status": "completed"
    },
    "tags": []
   },
   "source": [
    "**Using regex to remove unnecessary keywords and symbols and cleaning the text**"
   ]
  },
  {
   "cell_type": "code",
   "execution_count": null,
   "id": "7d3a1cbe",
   "metadata": {
    "execution": {
     "iopub.execute_input": "2023-03-06T08:05:04.336338Z",
     "iopub.status.busy": "2023-03-06T08:05:04.335951Z",
     "iopub.status.idle": "2023-03-06T08:05:04.343758Z",
     "shell.execute_reply": "2023-03-06T08:05:04.342693Z"
    },
    "papermill": {
     "duration": 0.016085,
     "end_time": "2023-03-06T08:05:04.345834",
     "exception": false,
     "start_time": "2023-03-06T08:05:04.329749",
     "status": "completed"
    },
    "tags": []
   },
   "outputs": [],
   "source": [
    "def clean_texts(texts):\n",
    "    stwords = stopwords.words('english')\n",
    "    l = len(texts)/10\n",
    "    temp_texts = []\n",
    "    for i in range(len(texts)):\n",
    "        text = re.sub('\\d', '0', texts[i])\n",
    "        if 'www.' in text or 'http:' in text or 'https:' in text or '.com' in text:\n",
    "            text = re.sub(r\"([^ ]+(?<=\\.[a-z]{3}))\", \" \", text)\n",
    "        text = re.sub('[^a-zA-Z]', ' ', text)\n",
    "        text = text.lower()\n",
    "        text = text.split()\n",
    "        text = [word for word in text if not word in stwords]\n",
    "        \n",
    "        text = ' '.join(text)\n",
    "        temp_texts.append(text)\n",
    "        if i%l==0:\n",
    "            print('--'+str(int(i/l)*10)+'%', end='')\n",
    "    print('--100%--Done !')\n",
    "    return temp_texts"
   ]
  },
  {
   "cell_type": "code",
   "execution_count": null,
   "id": "e0cbbe44",
   "metadata": {
    "execution": {
     "iopub.execute_input": "2023-03-06T08:05:04.358276Z",
     "iopub.status.busy": "2023-03-06T08:05:04.357992Z",
     "iopub.status.idle": "2023-03-06T08:16:50.798506Z",
     "shell.execute_reply": "2023-03-06T08:16:50.797363Z"
    },
    "papermill": {
     "duration": 706.45465,
     "end_time": "2023-03-06T08:16:50.805969",
     "exception": false,
     "start_time": "2023-03-06T08:05:04.351319",
     "status": "completed"
    },
    "tags": []
   },
   "outputs": [],
   "source": [
    "print('Processing Training data')\n",
    "train_texts = clean_texts(train_text)\n",
    "print('\\nProcessing Test data')\n",
    "test_texts = clean_texts(test_text)"
   ]
  },
  {
   "cell_type": "code",
   "execution_count": null,
   "id": "6c60e753",
   "metadata": {
    "execution": {
     "iopub.execute_input": "2023-03-06T08:16:50.820014Z",
     "iopub.status.busy": "2023-03-06T08:16:50.819665Z",
     "iopub.status.idle": "2023-03-06T08:16:51.688057Z",
     "shell.execute_reply": "2023-03-06T08:16:51.687105Z"
    },
    "papermill": {
     "duration": 0.878769,
     "end_time": "2023-03-06T08:16:51.690912",
     "exception": false,
     "start_time": "2023-03-06T08:16:50.812143",
     "status": "completed"
    },
    "tags": []
   },
   "outputs": [],
   "source": [
    "sns.countplot(x=train_labels)"
   ]
  },
  {
   "cell_type": "markdown",
   "id": "d96056ee",
   "metadata": {
    "papermill": {
     "duration": 0.008889,
     "end_time": "2023-03-06T08:16:51.712161",
     "exception": false,
     "start_time": "2023-03-06T08:16:51.703272",
     "status": "completed"
    },
    "tags": []
   },
   "source": [
    "**Vectorize the text for model to train**"
   ]
  },
  {
   "cell_type": "code",
   "execution_count": null,
   "id": "94fd0a95",
   "metadata": {
    "execution": {
     "iopub.execute_input": "2023-03-06T08:16:51.733902Z",
     "iopub.status.busy": "2023-03-06T08:16:51.733373Z",
     "iopub.status.idle": "2023-03-06T08:20:57.485750Z",
     "shell.execute_reply": "2023-03-06T08:20:57.484703Z"
    },
    "papermill": {
     "duration": 245.76794,
     "end_time": "2023-03-06T08:20:57.490167",
     "exception": false,
     "start_time": "2023-03-06T08:16:51.722227",
     "status": "completed"
    },
    "tags": []
   },
   "outputs": [],
   "source": [
    "from sklearn.feature_extraction.text import CountVectorizer\n",
    "\n",
    "print('Fitting data...')\n",
    "count_vect = CountVectorizer()\n",
    "count_vect.fit(train_texts) ; print('fit complete !')\n",
    "\n",
    "print(\"transforming training set\")\n",
    "train_texts_vec = count_vect.transform(train_texts)\n",
    "\n",
    "print(\"transforming test set\")\n",
    "test_texts_vec = count_vect.transform(test_texts)"
   ]
  },
  {
   "cell_type": "markdown",
   "id": "f3e7c46e",
   "metadata": {
    "papermill": {
     "duration": 0.006353,
     "end_time": "2023-03-06T08:20:57.503431",
     "exception": false,
     "start_time": "2023-03-06T08:20:57.497078",
     "status": "completed"
    },
    "tags": []
   },
   "source": [
    "**Naive Bayes Model**"
   ]
  },
  {
   "cell_type": "code",
   "execution_count": null,
   "id": "df3cdbfd",
   "metadata": {
    "execution": {
     "iopub.execute_input": "2023-03-06T08:20:57.517822Z",
     "iopub.status.busy": "2023-03-06T08:20:57.517458Z",
     "iopub.status.idle": "2023-03-06T08:20:59.015311Z",
     "shell.execute_reply": "2023-03-06T08:20:59.014313Z"
    },
    "papermill": {
     "duration": 1.507722,
     "end_time": "2023-03-06T08:20:59.017567",
     "exception": false,
     "start_time": "2023-03-06T08:20:57.509845",
     "status": "completed"
    },
    "tags": []
   },
   "outputs": [],
   "source": [
    "from sklearn.naive_bayes import MultinomialNB\n",
    "nb = MultinomialNB()\n",
    "nb.fit(train_texts_vec, train_labels)"
   ]
  },
  {
   "cell_type": "code",
   "execution_count": null,
   "id": "cd97cbc8",
   "metadata": {
    "execution": {
     "iopub.execute_input": "2023-03-06T08:20:59.033015Z",
     "iopub.status.busy": "2023-03-06T08:20:59.032588Z",
     "iopub.status.idle": "2023-03-06T08:20:59.171638Z",
     "shell.execute_reply": "2023-03-06T08:20:59.170603Z"
    },
    "papermill": {
     "duration": 0.149794,
     "end_time": "2023-03-06T08:20:59.174133",
     "exception": false,
     "start_time": "2023-03-06T08:20:59.024339",
     "status": "completed"
    },
    "tags": []
   },
   "outputs": [],
   "source": [
    "y_pred = nb.predict(test_texts_vec)"
   ]
  },
  {
   "cell_type": "code",
   "execution_count": null,
   "id": "e82a963c",
   "metadata": {
    "execution": {
     "iopub.execute_input": "2023-03-06T08:20:59.189566Z",
     "iopub.status.busy": "2023-03-06T08:20:59.188672Z",
     "iopub.status.idle": "2023-03-06T08:20:59.221823Z",
     "shell.execute_reply": "2023-03-06T08:20:59.220576Z"
    },
    "papermill": {
     "duration": 0.043137,
     "end_time": "2023-03-06T08:20:59.224131",
     "exception": false,
     "start_time": "2023-03-06T08:20:59.180994",
     "status": "completed"
    },
    "tags": []
   },
   "outputs": [],
   "source": [
    "from sklearn.metrics import accuracy_score\n",
    "print(\"Accuracy: \", accuracy_score(test_labels, y_pred))"
   ]
  },
  {
   "cell_type": "markdown",
   "id": "c81def17",
   "metadata": {
    "papermill": {
     "duration": 0.00659,
     "end_time": "2023-03-06T08:20:59.237519",
     "exception": false,
     "start_time": "2023-03-06T08:20:59.230929",
     "status": "completed"
    },
    "tags": []
   },
   "source": [
    "****Logistic Regression Model****"
   ]
  },
  {
   "cell_type": "code",
   "execution_count": null,
   "id": "a1a38099",
   "metadata": {
    "execution": {
     "iopub.execute_input": "2023-03-06T08:20:59.252180Z",
     "iopub.status.busy": "2023-03-06T08:20:59.251851Z",
     "iopub.status.idle": "2023-03-06T08:24:10.542221Z",
     "shell.execute_reply": "2023-03-06T08:24:10.540886Z"
    },
    "papermill": {
     "duration": 191.310245,
     "end_time": "2023-03-06T08:24:10.554429",
     "exception": false,
     "start_time": "2023-03-06T08:20:59.244184",
     "status": "completed"
    },
    "tags": []
   },
   "outputs": [],
   "source": [
    "from sklearn.linear_model import LogisticRegression\n",
    "\n",
    "lr_model = LogisticRegression(n_jobs=-1, max_iter=150)\n",
    "lr_model.fit(train_texts_vec, train_labels\n",
    "            )"
   ]
  },
  {
   "cell_type": "code",
   "execution_count": null,
   "id": "7ed11f7d",
   "metadata": {
    "execution": {
     "iopub.execute_input": "2023-03-06T08:24:10.588983Z",
     "iopub.status.busy": "2023-03-06T08:24:10.588460Z",
     "iopub.status.idle": "2023-03-06T08:24:10.700473Z",
     "shell.execute_reply": "2023-03-06T08:24:10.699287Z"
    },
    "papermill": {
     "duration": 0.133978,
     "end_time": "2023-03-06T08:24:10.704436",
     "exception": false,
     "start_time": "2023-03-06T08:24:10.570458",
     "status": "completed"
    },
    "tags": []
   },
   "outputs": [],
   "source": [
    "pred_lr = lr_model.predict(test_texts_vec)"
   ]
  },
  {
   "cell_type": "code",
   "execution_count": null,
   "id": "42902fd1",
   "metadata": {
    "execution": {
     "iopub.execute_input": "2023-03-06T08:24:10.739406Z",
     "iopub.status.busy": "2023-03-06T08:24:10.738951Z",
     "iopub.status.idle": "2023-03-06T08:24:10.779874Z",
     "shell.execute_reply": "2023-03-06T08:24:10.778599Z"
    },
    "papermill": {
     "duration": 0.061179,
     "end_time": "2023-03-06T08:24:10.782250",
     "exception": false,
     "start_time": "2023-03-06T08:24:10.721071",
     "status": "completed"
    },
    "tags": []
   },
   "outputs": [],
   "source": [
    "print(\"Accuracy:\", accuracy_score(test_labels, pred_lr\n",
    "                                 ))"
   ]
  },
  {
   "cell_type": "code",
   "execution_count": null,
   "id": "c2486cd2",
   "metadata": {
    "execution": {
     "iopub.execute_input": "2023-03-06T08:24:10.797614Z",
     "iopub.status.busy": "2023-03-06T08:24:10.797306Z",
     "iopub.status.idle": "2023-03-06T08:24:10.804347Z",
     "shell.execute_reply": "2023-03-06T08:24:10.803242Z"
    },
    "papermill": {
     "duration": 0.01877,
     "end_time": "2023-03-06T08:24:10.807904",
     "exception": false,
     "start_time": "2023-03-06T08:24:10.789134",
     "status": "completed"
    },
    "tags": []
   },
   "outputs": [],
   "source": [
    "sample = test_texts[100]\n",
    "print(sample)\n",
    "\n",
    "sample_vec = count_vect.transform([sample])\n",
    "pred = lr_model.predict(sample_vec)\n",
    "print('\\npredicted label:',pred[0])\n",
    "print('actual label:', test_labels[100])"
   ]
  },
  {
   "cell_type": "markdown",
   "id": "6ad5bb8f",
   "metadata": {
    "papermill": {
     "duration": 0.00659,
     "end_time": "2023-03-06T08:24:10.821334",
     "exception": false,
     "start_time": "2023-03-06T08:24:10.814744",
     "status": "completed"
    },
    "tags": []
   },
   "source": [
    "**Save the Model**"
   ]
  },
  {
   "cell_type": "code",
   "execution_count": null,
   "id": "7f67dbe2",
   "metadata": {
    "execution": {
     "iopub.execute_input": "2023-03-06T08:24:10.836383Z",
     "iopub.status.busy": "2023-03-06T08:24:10.836050Z",
     "iopub.status.idle": "2023-03-06T08:24:17.658964Z",
     "shell.execute_reply": "2023-03-06T08:24:17.657711Z"
    },
    "papermill": {
     "duration": 6.835062,
     "end_time": "2023-03-06T08:24:17.663111",
     "exception": false,
     "start_time": "2023-03-06T08:24:10.828049",
     "status": "completed"
    },
    "tags": []
   },
   "outputs": [],
   "source": [
    "import joblib\n",
    "\n",
    "joblib.dump(lr_model, 'model_joblib.pkl')\n",
    "joblib.dump(count_vect, 'count_vect_joblib.pkl')"
   ]
  }
 ],
 "metadata": {
  "kernelspec": {
   "display_name": "Python 3",
   "language": "python",
   "name": "python3"
  },
  "language_info": {
   "codemirror_mode": {
    "name": "ipython",
    "version": 3
   },
   "file_extension": ".py",
   "mimetype": "text/x-python",
   "name": "python",
   "nbconvert_exporter": "python",
   "pygments_lexer": "ipython3",
   "version": "3.7.12"
  },
  "papermill": {
   "default_parameters": {},
   "duration": 1283.048545,
   "end_time": "2023-03-06T08:24:20.542904",
   "environment_variables": {},
   "exception": null,
   "input_path": "__notebook__.ipynb",
   "output_path": "__notebook__.ipynb",
   "parameters": {},
   "start_time": "2023-03-06T08:02:57.494359",
   "version": "2.4.0"
  }
 },
 "nbformat": 4,
 "nbformat_minor": 5
}
